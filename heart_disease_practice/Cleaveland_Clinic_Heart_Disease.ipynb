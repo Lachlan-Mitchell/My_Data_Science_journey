{
 "cells": [
  {
   "cell_type": "markdown",
   "id": "e7eb705f",
   "metadata": {},
   "source": [
    "## Heart Disease Analysis\n",
    "\n",
    "This project analyses a csv that was taken from codecademy, it is reported to be: \n",
    "\n",
    "\"data from a sample patients who were evaluated for heart disease at the Cleveland Clinic Foundation. The data was downloaded from the UCI Machine Learning Repository and then cleaned for analysis. The principal investigators responsible for data collection were:\n",
    "\n",
    "Hungarian Institute of Cardiology. Budapest: Andras Janosi, M.D.\n",
    "University Hospital, Zurich, Switzerland: William Steinbrunn, M.D.\n",
    "University Hospital, Basel, Switzerland: Matthias Pfisterer, M.D.\n",
    "V.A. Medical Center, Long Beach and Cleveland Clinic Foundation: Robert Detrano, M.D., Ph.D.\"\n",
    "\n",
    "My goal is to work with the csv file to work on my one sample t-test, binomial testing, hypothesis work and signifcance thresholds."
   ]
  },
  {
   "cell_type": "code",
   "execution_count": 25,
   "id": "a1577f82",
   "metadata": {},
   "outputs": [],
   "source": [
    "import pandas as pd\n",
    "import numpy as np\n",
    "from scipy.stats import ttest_1samp\n",
    "from scipy.stats import binomtest"
   ]
  },
  {
   "cell_type": "code",
   "execution_count": 2,
   "id": "9346315d",
   "metadata": {},
   "outputs": [],
   "source": [
    "heart = pd.read_csv('heart_disease_practice.csv')\n",
    "yes_hd = heart[heart.heart_disease == 'presence']\n",
    "no_hd = heart[heart.heart_disease == 'absence']"
   ]
  },
  {
   "cell_type": "markdown",
   "id": "2550b472",
   "metadata": {},
   "source": [
    "Within this data set I will be speciffically looking at *chol* (serum cholestorol in mg/dl), *fbs* ( An indicator for whether fasting blood sugar is greater than 120 mg/dl (1 = true; 0 = false) and *heart_disease*. We have split the data frame *heart* into two subsets of  itself, being *yes_hd* and *no_hd*, *yes_hd* is a dataframe of all the individuals whom have *heart_disease* present and *no_hd* is those whom have it absent. "
   ]
  },
  {
   "cell_type": "code",
   "execution_count": 18,
   "id": "86eb4bd6",
   "metadata": {},
   "outputs": [
    {
     "data": {
      "text/html": [
       "<div>\n",
       "<style scoped>\n",
       "    .dataframe tbody tr th:only-of-type {\n",
       "        vertical-align: middle;\n",
       "    }\n",
       "\n",
       "    .dataframe tbody tr th {\n",
       "        vertical-align: top;\n",
       "    }\n",
       "\n",
       "    .dataframe thead th {\n",
       "        text-align: right;\n",
       "    }\n",
       "</style>\n",
       "<table border=\"1\" class=\"dataframe\">\n",
       "  <thead>\n",
       "    <tr style=\"text-align: right;\">\n",
       "      <th></th>\n",
       "      <th>age</th>\n",
       "      <th>sex</th>\n",
       "      <th>trestbps</th>\n",
       "      <th>chol</th>\n",
       "      <th>cp</th>\n",
       "      <th>exang</th>\n",
       "      <th>fbs</th>\n",
       "      <th>thalach</th>\n",
       "      <th>heart_disease</th>\n",
       "    </tr>\n",
       "  </thead>\n",
       "  <tbody>\n",
       "    <tr>\n",
       "      <th>0</th>\n",
       "      <td>63.0</td>\n",
       "      <td>male</td>\n",
       "      <td>145.0</td>\n",
       "      <td>233.0</td>\n",
       "      <td>typical angina</td>\n",
       "      <td>0.0</td>\n",
       "      <td>1.0</td>\n",
       "      <td>150.0</td>\n",
       "      <td>absence</td>\n",
       "    </tr>\n",
       "    <tr>\n",
       "      <th>1</th>\n",
       "      <td>67.0</td>\n",
       "      <td>male</td>\n",
       "      <td>160.0</td>\n",
       "      <td>286.0</td>\n",
       "      <td>asymptomatic</td>\n",
       "      <td>1.0</td>\n",
       "      <td>0.0</td>\n",
       "      <td>108.0</td>\n",
       "      <td>presence</td>\n",
       "    </tr>\n",
       "    <tr>\n",
       "      <th>2</th>\n",
       "      <td>67.0</td>\n",
       "      <td>male</td>\n",
       "      <td>120.0</td>\n",
       "      <td>229.0</td>\n",
       "      <td>asymptomatic</td>\n",
       "      <td>1.0</td>\n",
       "      <td>0.0</td>\n",
       "      <td>129.0</td>\n",
       "      <td>presence</td>\n",
       "    </tr>\n",
       "    <tr>\n",
       "      <th>3</th>\n",
       "      <td>37.0</td>\n",
       "      <td>male</td>\n",
       "      <td>130.0</td>\n",
       "      <td>250.0</td>\n",
       "      <td>non-anginal pain</td>\n",
       "      <td>0.0</td>\n",
       "      <td>0.0</td>\n",
       "      <td>187.0</td>\n",
       "      <td>absence</td>\n",
       "    </tr>\n",
       "    <tr>\n",
       "      <th>4</th>\n",
       "      <td>41.0</td>\n",
       "      <td>female</td>\n",
       "      <td>130.0</td>\n",
       "      <td>204.0</td>\n",
       "      <td>atypical angina</td>\n",
       "      <td>0.0</td>\n",
       "      <td>0.0</td>\n",
       "      <td>172.0</td>\n",
       "      <td>absence</td>\n",
       "    </tr>\n",
       "    <tr>\n",
       "      <th>...</th>\n",
       "      <td>...</td>\n",
       "      <td>...</td>\n",
       "      <td>...</td>\n",
       "      <td>...</td>\n",
       "      <td>...</td>\n",
       "      <td>...</td>\n",
       "      <td>...</td>\n",
       "      <td>...</td>\n",
       "      <td>...</td>\n",
       "    </tr>\n",
       "    <tr>\n",
       "      <th>298</th>\n",
       "      <td>45.0</td>\n",
       "      <td>male</td>\n",
       "      <td>110.0</td>\n",
       "      <td>264.0</td>\n",
       "      <td>typical angina</td>\n",
       "      <td>0.0</td>\n",
       "      <td>0.0</td>\n",
       "      <td>132.0</td>\n",
       "      <td>presence</td>\n",
       "    </tr>\n",
       "    <tr>\n",
       "      <th>299</th>\n",
       "      <td>68.0</td>\n",
       "      <td>male</td>\n",
       "      <td>144.0</td>\n",
       "      <td>193.0</td>\n",
       "      <td>asymptomatic</td>\n",
       "      <td>0.0</td>\n",
       "      <td>1.0</td>\n",
       "      <td>141.0</td>\n",
       "      <td>presence</td>\n",
       "    </tr>\n",
       "    <tr>\n",
       "      <th>300</th>\n",
       "      <td>57.0</td>\n",
       "      <td>male</td>\n",
       "      <td>130.0</td>\n",
       "      <td>131.0</td>\n",
       "      <td>asymptomatic</td>\n",
       "      <td>1.0</td>\n",
       "      <td>0.0</td>\n",
       "      <td>115.0</td>\n",
       "      <td>presence</td>\n",
       "    </tr>\n",
       "    <tr>\n",
       "      <th>301</th>\n",
       "      <td>57.0</td>\n",
       "      <td>female</td>\n",
       "      <td>130.0</td>\n",
       "      <td>236.0</td>\n",
       "      <td>atypical angina</td>\n",
       "      <td>0.0</td>\n",
       "      <td>0.0</td>\n",
       "      <td>174.0</td>\n",
       "      <td>presence</td>\n",
       "    </tr>\n",
       "    <tr>\n",
       "      <th>302</th>\n",
       "      <td>38.0</td>\n",
       "      <td>male</td>\n",
       "      <td>138.0</td>\n",
       "      <td>175.0</td>\n",
       "      <td>non-anginal pain</td>\n",
       "      <td>0.0</td>\n",
       "      <td>0.0</td>\n",
       "      <td>173.0</td>\n",
       "      <td>absence</td>\n",
       "    </tr>\n",
       "  </tbody>\n",
       "</table>\n",
       "<p>303 rows × 9 columns</p>\n",
       "</div>"
      ],
      "text/plain": [
       "      age     sex  trestbps   chol                cp  exang  fbs  thalach  \\\n",
       "0    63.0    male     145.0  233.0    typical angina    0.0  1.0    150.0   \n",
       "1    67.0    male     160.0  286.0      asymptomatic    1.0  0.0    108.0   \n",
       "2    67.0    male     120.0  229.0      asymptomatic    1.0  0.0    129.0   \n",
       "3    37.0    male     130.0  250.0  non-anginal pain    0.0  0.0    187.0   \n",
       "4    41.0  female     130.0  204.0   atypical angina    0.0  0.0    172.0   \n",
       "..    ...     ...       ...    ...               ...    ...  ...      ...   \n",
       "298  45.0    male     110.0  264.0    typical angina    0.0  0.0    132.0   \n",
       "299  68.0    male     144.0  193.0      asymptomatic    0.0  1.0    141.0   \n",
       "300  57.0    male     130.0  131.0      asymptomatic    1.0  0.0    115.0   \n",
       "301  57.0  female     130.0  236.0   atypical angina    0.0  0.0    174.0   \n",
       "302  38.0    male     138.0  175.0  non-anginal pain    0.0  0.0    173.0   \n",
       "\n",
       "    heart_disease  \n",
       "0         absence  \n",
       "1        presence  \n",
       "2        presence  \n",
       "3         absence  \n",
       "4         absence  \n",
       "..            ...  \n",
       "298      presence  \n",
       "299      presence  \n",
       "300      presence  \n",
       "301      presence  \n",
       "302       absence  \n",
       "\n",
       "[303 rows x 9 columns]"
      ]
     },
     "execution_count": 18,
     "metadata": {},
     "output_type": "execute_result"
    }
   ],
   "source": [
    "heart"
   ]
  },
  {
   "cell_type": "code",
   "execution_count": 19,
   "id": "ae6fd0ea",
   "metadata": {},
   "outputs": [
    {
     "data": {
      "text/plain": [
       "303"
      ]
     },
     "execution_count": 19,
     "metadata": {},
     "output_type": "execute_result"
    }
   ],
   "source": [
    "num_patients = len(heart)\n",
    "num_patients"
   ]
  },
  {
   "cell_type": "markdown",
   "id": "e66421fd",
   "metadata": {},
   "source": [
    "##### Taking a dive into the Cholestorol column, chol\n",
    "\n",
    "First I want to issolate *chol* from both dataframes (creating two series, chol_hd and chol_no_hd), to look at how those with Heart Disease cholestoral levels differ to those who dont have *heart_disease*\n",
    "\n",
    "In general, total cholesterol over 240 mg/dl is considered “high” (and therefore unhealthy). If we calculate the mean cholesterol level for patients who were diagnosed with heart disease and print it out. Is it higher than 240 mg/dl?"
   ]
  },
  {
   "cell_type": "code",
   "execution_count": 4,
   "id": "217c80c2",
   "metadata": {},
   "outputs": [
    {
     "name": "stdout",
     "output_type": "stream",
     "text": [
      "1      286.0\n",
      "2      229.0\n",
      "6      268.0\n",
      "8      254.0\n",
      "9      203.0\n",
      "       ...  \n",
      "297    241.0\n",
      "298    264.0\n",
      "299    193.0\n",
      "300    131.0\n",
      "301    236.0\n",
      "Name: chol, Length: 139, dtype: float64\n"
     ]
    },
    {
     "data": {
      "text/plain": [
       "251.4748201438849"
      ]
     },
     "execution_count": 4,
     "metadata": {},
     "output_type": "execute_result"
    }
   ],
   "source": [
    "chol_hd = yes_hd['chol']\n",
    "print(chol_hd)\n",
    "chol_hd_mean = chol_hd.mean()\n",
    "chol_hd_mean"
   ]
  },
  {
   "cell_type": "markdown",
   "id": "6e8e17ef",
   "metadata": {},
   "source": [
    "Indeed the cholestorol is higher than expected but we should run a one-sided-ttest and check it against a signifacne threshold to see if this higher mean matters or not.\n",
    "\n",
    "First we must ask a question\n",
    "\n",
    "Do people with heart disease have high cholesterol levels (greater than or equal to 240 mg/dl) on average?\n",
    "\n",
    "**Null**: People with heart disease have an average cholesterol level equal to 240 mg/dl\n",
    "\n",
    "**Alternative**: People with heart disease have an average cholesterol level that is greater than 240 mg/dl"
   ]
  },
  {
   "cell_type": "code",
   "execution_count": 13,
   "id": "b18c82f3",
   "metadata": {},
   "outputs": [
    {
     "data": {
      "text/plain": [
       "0.0035411033905155707"
      ]
     },
     "execution_count": 13,
     "metadata": {},
     "output_type": "execute_result"
    }
   ],
   "source": [
    "tstat, pval = ttest_1samp(chol_hd, 240)\n",
    "one_sided_pval = pval / 2\n",
    "one_sided_pval"
   ]
  },
  {
   "cell_type": "markdown",
   "id": "b05effdc",
   "metadata": {},
   "source": [
    "one_sided_pval is around 0.0035 which is less than 0.05(significance threshold), meaning heart disease patitents have an average cholesterol level significantly greater than 240"
   ]
  },
  {
   "cell_type": "markdown",
   "id": "c2a84ac4",
   "metadata": {},
   "source": [
    "We will also want to check how chol for those without heart_disease is represented in our sample."
   ]
  },
  {
   "cell_type": "code",
   "execution_count": 14,
   "id": "5f6e15d7",
   "metadata": {},
   "outputs": [
    {
     "name": "stdout",
     "output_type": "stream",
     "text": [
      "0      233.0\n",
      "3      250.0\n",
      "4      204.0\n",
      "5      236.0\n",
      "7      354.0\n",
      "       ...  \n",
      "288    221.0\n",
      "289    240.0\n",
      "291    342.0\n",
      "295    157.0\n",
      "302    175.0\n",
      "Name: chol, Length: 164, dtype: float64\n",
      "242.640243902439\n"
     ]
    },
    {
     "data": {
      "text/plain": [
       "0.26397120232220506"
      ]
     },
     "execution_count": 14,
     "metadata": {},
     "output_type": "execute_result"
    }
   ],
   "source": [
    "chol_no_hd = no_hd['chol']\n",
    "print(chol_no_hd)\n",
    "chol_no_hd_mean = chol_no_hd.mean()\n",
    "print(chol_no_hd_mean)\n",
    "\n",
    "tstat, no_hd_pval = ttest_1samp(chol_no_hd, 240)\n",
    "one_sided_no_hd_pval = no_hd_pval / 2\n",
    "one_sided_no_hd_pval"
   ]
  },
  {
   "cell_type": "markdown",
   "id": "7ebcf76d",
   "metadata": {},
   "source": [
    "The one_sided_no_hd_pval is 0.26 which is higher than our significane level of 0.05 meaning we can reject the alternative hypothesis for those who do not have a heart disease \n"
   ]
  },
  {
   "cell_type": "markdown",
   "id": "c8f3bd21",
   "metadata": {},
   "source": [
    "#### Analysing fbs (Fasting Blood Sugar)\n",
    "\n",
    "the fbs column of this dataset indicates whether or not a patient’s fasting blood sugar was greater than 120 mg/dl (1 means that their fasting blood sugar was greater than 120 mg/dl; 0 means it was less than or equal to 120 mg/dl).\n",
    "\n",
    "by taking the sum of the column we can see how many individuals have higher than 120 mg/dl"
   ]
  },
  {
   "cell_type": "code",
   "execution_count": 22,
   "id": "c9a247bb",
   "metadata": {},
   "outputs": [
    {
     "data": {
      "text/plain": [
       "45"
      ]
     },
     "execution_count": 22,
     "metadata": {},
     "output_type": "execute_result"
    }
   ],
   "source": [
    "num_highfbs_patients = np.sum(heart.fbs == 1)\n",
    "num_highfbs_patients"
   ]
  },
  {
   "cell_type": "markdown",
   "id": "3d4cd0cf",
   "metadata": {},
   "source": [
    "By some estimates, about 8% of the U.S. population had diabetes (diagnosed or undiagnosed) in 1988 when this data was collected. While there are multiple tests that contribute to a diabetes diagnosis, fasting blood sugar levels greater than 120 mg/dl can be indicative of diabetes (or at least, pre-diabetes)."
   ]
  },
  {
   "cell_type": "code",
   "execution_count": 23,
   "id": "732f08f0",
   "metadata": {},
   "outputs": [
    {
     "data": {
      "text/plain": [
       "24.240000000000002"
      ]
     },
     "execution_count": 23,
     "metadata": {},
     "output_type": "execute_result"
    }
   ],
   "source": [
    "expected_diabetics_in_sample = 0.08 * len(heart)\n",
    "expected_diabetics_in_sample"
   ]
  },
  {
   "cell_type": "markdown",
   "id": "d8300a44",
   "metadata": {},
   "source": [
    "We should epect 24 people to have diabetes, this is worrying as we have almost double that amount. We should check to see if our sample was drawn from a population where 8% of people have fasting blood sugar > 120 mg/dl\n",
    "\n",
    "As our answers to fbs is either yes or no (1 or 0) we should se a binomial test to determine if we are getting expected results\n",
    "\n",
    "First we ak the question:\n",
    "\n",
    "Does this sample come from a population in which the rate of fbs > 120 mg/dl is equal to 8%?\n",
    "\n",
    "Then our hypothesis\n",
    "\n",
    "**Null**: This sample was drawn from a population where 8% of people have fasting blood sugar > 120 mg/dl\n",
    "\n",
    "**Alternative**: This sample was drawn from a population where more than 8% of people have fasting blood sugar > 120 mg/dl"
   ]
  },
  {
   "cell_type": "code",
   "execution_count": 28,
   "id": "6cf400af",
   "metadata": {},
   "outputs": [
    {
     "data": {
      "text/plain": [
       "4.689471951448875e-05"
      ]
     },
     "execution_count": 28,
     "metadata": {},
     "output_type": "execute_result"
    }
   ],
   "source": [
    "result = binomtest(45, n= 303, p= 0.08, alternative= 'greater')\n",
    "result.pvalue"
   ]
  },
  {
   "cell_type": "markdown",
   "id": "a0d58e7d",
   "metadata": {},
   "source": [
    "Our answer is 4.6895~ * e ** -5. or 0.00004695. Which is significantly less than 0.05 This means that our sample is very likely to have come from a population where more than 8% of people have an fbs > 120 mg/dl"
   ]
  },
  {
   "cell_type": "code",
   "execution_count": null,
   "id": "31bc3d8c",
   "metadata": {},
   "outputs": [],
   "source": []
  }
 ],
 "metadata": {
  "kernelspec": {
   "display_name": "Python 3 (ipykernel)",
   "language": "python",
   "name": "python3"
  },
  "language_info": {
   "codemirror_mode": {
    "name": "ipython",
    "version": 3
   },
   "file_extension": ".py",
   "mimetype": "text/x-python",
   "name": "python",
   "nbconvert_exporter": "python",
   "pygments_lexer": "ipython3",
   "version": "3.10.9"
  }
 },
 "nbformat": 4,
 "nbformat_minor": 5
}
