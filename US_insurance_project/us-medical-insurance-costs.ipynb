{
 "cells": [
  {
   "cell_type": "markdown",
   "metadata": {},
   "source": [
    "# U.S. Medical Insurance Costs"
   ]
  },
  {
   "cell_type": "markdown",
   "metadata": {},
   "source": [
    "#### Project Outcomes\n",
    "\n",
    "I hope to understand the dataset, provided by codecademy. Ensure it has a good representation\n",
    "Goals – What are the goals of the project? How will we know if our project is successful?\n",
    "    - Determine if the data quality is represenative of an american population( has people from differnet areas, no/children, smokers/ non smokers). \n",
    "If the data is appropiate i wish to analyse the effects of smoking has on insurace cost by coparing to other non smokers who have the same children number and age e.g(19 male with 1 child + smoker vs 19 yr old male with 1 children + non-smoker)"
   ]
  },
  {
   "cell_type": "code",
   "execution_count": 1,
   "metadata": {},
   "outputs": [],
   "source": [
    "import pandas as pd"
   ]
  },
  {
   "cell_type": "code",
   "execution_count": 2,
   "metadata": {},
   "outputs": [],
   "source": [
    "insurance_df = pd.read_csv('insurance.csv')"
   ]
  },
  {
   "cell_type": "code",
   "execution_count": 3,
   "metadata": {},
   "outputs": [
    {
     "data": {
      "text/html": [
       "<div>\n",
       "<style scoped>\n",
       "    .dataframe tbody tr th:only-of-type {\n",
       "        vertical-align: middle;\n",
       "    }\n",
       "\n",
       "    .dataframe tbody tr th {\n",
       "        vertical-align: top;\n",
       "    }\n",
       "\n",
       "    .dataframe thead th {\n",
       "        text-align: right;\n",
       "    }\n",
       "</style>\n",
       "<table border=\"1\" class=\"dataframe\">\n",
       "  <thead>\n",
       "    <tr style=\"text-align: right;\">\n",
       "      <th></th>\n",
       "      <th>age</th>\n",
       "      <th>sex</th>\n",
       "      <th>bmi</th>\n",
       "      <th>children</th>\n",
       "      <th>smoker</th>\n",
       "      <th>region</th>\n",
       "      <th>charges</th>\n",
       "    </tr>\n",
       "  </thead>\n",
       "  <tbody>\n",
       "    <tr>\n",
       "      <th>0</th>\n",
       "      <td>19</td>\n",
       "      <td>female</td>\n",
       "      <td>27.900</td>\n",
       "      <td>0</td>\n",
       "      <td>yes</td>\n",
       "      <td>southwest</td>\n",
       "      <td>16884.92400</td>\n",
       "    </tr>\n",
       "    <tr>\n",
       "      <th>1</th>\n",
       "      <td>18</td>\n",
       "      <td>male</td>\n",
       "      <td>33.770</td>\n",
       "      <td>1</td>\n",
       "      <td>no</td>\n",
       "      <td>southeast</td>\n",
       "      <td>1725.55230</td>\n",
       "    </tr>\n",
       "    <tr>\n",
       "      <th>2</th>\n",
       "      <td>28</td>\n",
       "      <td>male</td>\n",
       "      <td>33.000</td>\n",
       "      <td>3</td>\n",
       "      <td>no</td>\n",
       "      <td>southeast</td>\n",
       "      <td>4449.46200</td>\n",
       "    </tr>\n",
       "    <tr>\n",
       "      <th>3</th>\n",
       "      <td>33</td>\n",
       "      <td>male</td>\n",
       "      <td>22.705</td>\n",
       "      <td>0</td>\n",
       "      <td>no</td>\n",
       "      <td>northwest</td>\n",
       "      <td>21984.47061</td>\n",
       "    </tr>\n",
       "    <tr>\n",
       "      <th>4</th>\n",
       "      <td>32</td>\n",
       "      <td>male</td>\n",
       "      <td>28.880</td>\n",
       "      <td>0</td>\n",
       "      <td>no</td>\n",
       "      <td>northwest</td>\n",
       "      <td>3866.85520</td>\n",
       "    </tr>\n",
       "    <tr>\n",
       "      <th>...</th>\n",
       "      <td>...</td>\n",
       "      <td>...</td>\n",
       "      <td>...</td>\n",
       "      <td>...</td>\n",
       "      <td>...</td>\n",
       "      <td>...</td>\n",
       "      <td>...</td>\n",
       "    </tr>\n",
       "    <tr>\n",
       "      <th>1333</th>\n",
       "      <td>50</td>\n",
       "      <td>male</td>\n",
       "      <td>30.970</td>\n",
       "      <td>3</td>\n",
       "      <td>no</td>\n",
       "      <td>northwest</td>\n",
       "      <td>10600.54830</td>\n",
       "    </tr>\n",
       "    <tr>\n",
       "      <th>1334</th>\n",
       "      <td>18</td>\n",
       "      <td>female</td>\n",
       "      <td>31.920</td>\n",
       "      <td>0</td>\n",
       "      <td>no</td>\n",
       "      <td>northeast</td>\n",
       "      <td>2205.98080</td>\n",
       "    </tr>\n",
       "    <tr>\n",
       "      <th>1335</th>\n",
       "      <td>18</td>\n",
       "      <td>female</td>\n",
       "      <td>36.850</td>\n",
       "      <td>0</td>\n",
       "      <td>no</td>\n",
       "      <td>southeast</td>\n",
       "      <td>1629.83350</td>\n",
       "    </tr>\n",
       "    <tr>\n",
       "      <th>1336</th>\n",
       "      <td>21</td>\n",
       "      <td>female</td>\n",
       "      <td>25.800</td>\n",
       "      <td>0</td>\n",
       "      <td>no</td>\n",
       "      <td>southwest</td>\n",
       "      <td>2007.94500</td>\n",
       "    </tr>\n",
       "    <tr>\n",
       "      <th>1337</th>\n",
       "      <td>61</td>\n",
       "      <td>female</td>\n",
       "      <td>29.070</td>\n",
       "      <td>0</td>\n",
       "      <td>yes</td>\n",
       "      <td>northwest</td>\n",
       "      <td>29141.36030</td>\n",
       "    </tr>\n",
       "  </tbody>\n",
       "</table>\n",
       "<p>1338 rows × 7 columns</p>\n",
       "</div>"
      ],
      "text/plain": [
       "      age     sex     bmi  children smoker     region      charges\n",
       "0      19  female  27.900         0    yes  southwest  16884.92400\n",
       "1      18    male  33.770         1     no  southeast   1725.55230\n",
       "2      28    male  33.000         3     no  southeast   4449.46200\n",
       "3      33    male  22.705         0     no  northwest  21984.47061\n",
       "4      32    male  28.880         0     no  northwest   3866.85520\n",
       "...   ...     ...     ...       ...    ...        ...          ...\n",
       "1333   50    male  30.970         3     no  northwest  10600.54830\n",
       "1334   18  female  31.920         0     no  northeast   2205.98080\n",
       "1335   18  female  36.850         0     no  southeast   1629.83350\n",
       "1336   21  female  25.800         0     no  southwest   2007.94500\n",
       "1337   61  female  29.070         0    yes  northwest  29141.36030\n",
       "\n",
       "[1338 rows x 7 columns]"
      ]
     },
     "execution_count": 3,
     "metadata": {},
     "output_type": "execute_result"
    }
   ],
   "source": [
    "insurance_df"
   ]
  },
  {
   "cell_type": "code",
   "execution_count": 4,
   "metadata": {},
   "outputs": [],
   "source": [
    "age_dict = {}\n",
    "sex_dict = {}\n",
    "children_dict = {}\n",
    "smoker_dict = {}\n",
    "region_dict = {}"
   ]
  },
  {
   "cell_type": "code",
   "execution_count": 5,
   "metadata": {},
   "outputs": [],
   "source": [
    "def count_instances(key, new_dict):\n",
    "    for i in range(len(insurance_df[key])):\n",
    "        current = insurance_df[key][i]\n",
    "        if current in new_dict:\n",
    "            new_dict[current] += 1\n",
    "        else:\n",
    "            new_dict[current] = 1\n",
    "    return new_dict"
   ]
  },
  {
   "cell_type": "code",
   "execution_count": 8,
   "metadata": {},
   "outputs": [
    {
     "data": {
      "text/plain": [
       "{'southwest': 325, 'southeast': 364, 'northwest': 325, 'northeast': 324}"
      ]
     },
     "execution_count": 8,
     "metadata": {},
     "output_type": "execute_result"
    }
   ],
   "source": [
    "count_instances('age', age_dict)\n",
    "count_instances('sex', sex_dict)\n",
    "count_instances('children', children_dict)\n",
    "count_instances('smoker', smoker_dict)\n",
    "count_instances('region', region_dict)"
   ]
  },
  {
   "cell_type": "code",
   "execution_count": 10,
   "metadata": {},
   "outputs": [
    {
     "name": "stdout",
     "output_type": "stream",
     "text": [
      "Age dict:\n",
      " {19: 136, 18: 138, 28: 56, 33: 52, 32: 52, 31: 54, 46: 58, 37: 50, 60: 46, 25: 56, 62: 46, 23: 56, 56: 52, 27: 56, 52: 58, 30: 54, 34: 52, 59: 50, 63: 46, 55: 52, 22: 56, 26: 56, 35: 50, 24: 56, 41: 54, 38: 50, 36: 50, 21: 56, 48: 58, 40: 54, 58: 50, 53: 56, 43: 54, 64: 44, 20: 58, 61: 46, 44: 54, 57: 52, 29: 54, 45: 58, 54: 56, 49: 56, 47: 58, 51: 58, 42: 54, 50: 58, 39: 50} \n",
      "Sex dict:\n",
      " {'female': 662, 'male': 676} \n",
      "Children dict:\n",
      " {0: 574, 1: 324, 3: 157, 2: 240, 5: 18, 4: 25} \n",
      "Smoker dict:\n",
      " {'yes': 274, 'no': 1064} \n",
      "Region dict:\n",
      " {'southwest': 325, 'southeast': 364, 'northwest': 325, 'northeast': 324}\n"
     ]
    }
   ],
   "source": [
    "print(\"Age dict:\\n\",age_dict, \"\\nSex dict:\\n\", sex_dict, \"\\nChildren dict:\\n\", children_dict, \"\\nSmoker dict:\\n\", smoker_dict, \"\\nRegion dict:\\n\", region_dict)"
   ]
  },
  {
   "cell_type": "markdown",
   "metadata": {},
   "source": [
    "##### How does this priliminary data compare to census data?\n",
    "\n",
    "Smoking: According to the 2020 census data, and information provided by the cdc @ https://www.cdc.gov/tobacco/campaign/tips/resources/data/cigarette-smoking-in-united-states.html\n",
    "approximatley 12.5% of all americans have smoked atleast 100 cigerettes in their life time.\n",
    "    14.1% of American men and\n",
    "    11% of American Females smoke.\n",
    "    A break down by census region shows that the\n",
    "       1. Northeast: 10.4% of indiviuals smoke there\n",
    "       2. Midwest: 15.2%\n",
    "       3. South 14.1%\n",
    "       4. West: 9.0%\n",
    "    By age Group:\n",
    "        18-24: 7.4%\n",
    "        25-44: 14.1%\n",
    "        45-64: 14.9%\n",
    "        >= 65: 9.0%"
   ]
  },
  {
   "cell_type": "code",
   "execution_count": 24,
   "metadata": {},
   "outputs": [],
   "source": [
    "sex_smoker_dict = {'MS': 0, 'FS':0, 'MNS':0, 'FNS':0}\n",
    "def smoker_comparison_to_sex():\n",
    "    for i in range(len(insurance_df['smoker'])):\n",
    "        current = insurance_df['sex'][i]\n",
    "        smoker = insurance_df['smoker'][i]\n",
    "        if smoker == 'yes' and current == 'male':\n",
    "            sex_smoker_dict['MS'] += 1\n",
    "        elif smoker == 'no' and current == 'male':\n",
    "             sex_smoker_dict['MNS'] += 1\n",
    "        elif smoker == 'yes' and current == 'female':\n",
    "            sex_smoker_dict['FS'] += 1\n",
    "        else:\n",
    "            sex_smoker_dict['FNS'] += 1\n",
    "    return sex_smoker_dict"
   ]
  },
  {
   "cell_type": "code",
   "execution_count": 25,
   "metadata": {},
   "outputs": [
    {
     "data": {
      "text/plain": [
       "{'MS': 159, 'FS': 115, 'MNS': 517, 'FNS': 547}"
      ]
     },
     "execution_count": 25,
     "metadata": {},
     "output_type": "execute_result"
    }
   ],
   "source": [
    "smoker_comparison_to_sex()"
   ]
  },
  {
   "cell_type": "code",
   "execution_count": 30,
   "metadata": {},
   "outputs": [
    {
     "name": "stdout",
     "output_type": "stream",
     "text": [
      "percentage of Male Smokers in data:  11.883408071748878\n",
      "percentage of Female Smokers in data:  8.594917787742899\n",
      "percentage of non_Female Smokers in data:  40.88191330343797\n",
      "percentage of non_Male Smokers in data:  38.639760837070256\n"
     ]
    }
   ],
   "source": [
    "percent_of_male_smokers = (sex_smoker_dict.get('MS') / sum(sex_smoker_dict.values())) * 100\n",
    "print(\"percentage of Male Smokers in data: \",percent_of_male_smokers)\n",
    "percent_of_female_smokers = (sex_smoker_dict.get('FS') / sum(sex_smoker_dict.values())) * 100\n",
    "print(\"percentage of Female Smokers in data: \", percent_of_female_smokers)\n",
    "percent_of_non_female_smokers = (sex_smoker_dict.get('FNS') / sum(sex_smoker_dict.values())) * 100\n",
    "print(\"percentage of non_Female Smokers in data: \", percent_of_non_female_smokers)\n",
    "percent_of_non_male_smokers = (sex_smoker_dict.get('MNS') / sum(sex_smoker_dict.values())) * 100\n",
    "print(\"percentage of non_Male Smokers in data: \", percent_of_non_male_smokers)"
   ]
  },
  {
   "cell_type": "markdown",
   "metadata": {},
   "source": [
    "With these percents their is a higher skewed amount of non smokers in proportion to smokers, then in the actual american census. This may present inaccurices when generalising about how smoking will effect the cost of your insurance as their will be less exact matches to others, with smoking being the seperator."
   ]
  },
  {
   "cell_type": "markdown",
   "metadata": {},
   "source": [
    "Things to find!\n",
    "---\n",
    "    - Average age of database \n",
    "    -average cost\n",
    "    - average cost of smokers ( male, female, in general)\n",
    "    - direct comparison between smoking staus as yes or no ( could do a age range? )\n",
    "    - smokers per region!"
   ]
  },
  {
   "cell_type": "code",
   "execution_count": 39,
   "metadata": {},
   "outputs": [],
   "source": [
    "def average_age(age_dict):\n",
    "    total_age = 0\n",
    "    total_people = 0\n",
    "    for age, num_people in age_dict.items():\n",
    "        total_age += age * num_people\n",
    "        total_people += num_people\n",
    "    return total_age / total_people"
   ]
  },
  {
   "cell_type": "code",
   "execution_count": 40,
   "metadata": {},
   "outputs": [
    {
     "data": {
      "text/plain": [
       "39.20702541106129"
      ]
     },
     "execution_count": 40,
     "metadata": {},
     "output_type": "execute_result"
    }
   ],
   "source": [
    "average_age(age_dict)"
   ]
  },
  {
   "cell_type": "markdown",
   "metadata": {},
   "source": [
    "The Average Age of the database is 39 years old"
   ]
  },
  {
   "cell_type": "code",
   "execution_count": 46,
   "metadata": {},
   "outputs": [],
   "source": [
    "def insurance_average():\n",
    "    total_charges = 0\n",
    "    for charge in insurance_df['charges']:\n",
    "        total_charges += charge\n",
    "    return total_charges /  len(insurance_df['charges'])"
   ]
  },
  {
   "cell_type": "code",
   "execution_count": 47,
   "metadata": {},
   "outputs": [
    {
     "data": {
      "text/plain": [
       "13270.422265141257"
      ]
     },
     "execution_count": 47,
     "metadata": {},
     "output_type": "execute_result"
    }
   ],
   "source": [
    "insurance_average()"
   ]
  },
  {
   "cell_type": "markdown",
   "metadata": {},
   "source": [
    "The average insurance cost is $13270"
   ]
  },
  {
   "cell_type": "code",
   "execution_count": 90,
   "metadata": {},
   "outputs": [],
   "source": [
    "def insurance_average_for_smokers(sex_smoker_dict):\n",
    "    male_smokers_charge = 0\n",
    "    female_smokers_charge = 0\n",
    "    male_non_smokers_charge = 0\n",
    "    female_non_smokers_charge = 0\n",
    "    smokers_charge = 0\n",
    "    non_smokers_charge = 0\n",
    "    for i in range(len(insurance_df['charges'])):\n",
    "        current = insurance_df['sex'][i]\n",
    "        smoker = insurance_df['smoker'][i]\n",
    "        charge = insurance_df['charges'][i]\n",
    "        if smoker == 'yes' and current == 'male':\n",
    "            smokers_charge += charge\n",
    "            male_smokers_charge += charge\n",
    "        elif smoker == 'yes' and current == 'female':\n",
    "            smokers_charge += charge\n",
    "            female_smokers_charge += charge\n",
    "        elif smoker == 'no' and current == 'male':\n",
    "            non_smokers_charge += charge\n",
    "            male_non_smokers_charge += charge\n",
    "        elif smoker == 'no' and current == 'female':\n",
    "            non_smokers_charge += charge\n",
    "            female_non_smokers_charge += charge\n",
    "            \n",
    "    male_smoker_average = male_smokers_charge / sex_smoker_dict['MS']\n",
    "    female_smoker_average = female_smokers_charge / sex_smoker_dict['FS']\n",
    "    male_non_smoker_average = male_non_smokers_charge / sex_smoker_dict['MNS']\n",
    "    female_non_smoker_average = female_non_smokers_charge / sex_smoker_dict['FNS']\n",
    "    smokers_average = (male_smokers_charge + female_smokers_charge) / (sex_smoker_dict['MS'] + sex_smoker_dict['FS'])\n",
    "    non_smokers_average = (male_non_smokers_charge + female_non_smokers_charge) / (sex_smoker_dict['MNS'] + sex_smoker_dict['FNS'])\n",
    "    smoker_summary_on_cost = {'smokers average cost': smokers_average, 'non smokers average cost': non_smokers_average, 'male smokers average cost': male_smoker_average, 'female smokers average cost':female_smoker_average, 'male non smokers average cost': male_non_smoker_average, 'female non smokers average cost':  female_non_smoker_average}\n",
    "    return smoker_summary_on_cost"
   ]
  },
  {
   "cell_type": "code",
   "execution_count": 91,
   "metadata": {},
   "outputs": [
    {
     "data": {
      "text/plain": [
       "{'smokers average cost': 32050.23183153285,\n",
       " 'non smokers average cost': 8434.268297856192,\n",
       " 'male smokers average cost': 33042.00597528302,\n",
       " 'female smokers average cost': 30678.996276260867,\n",
       " 'male non smokers average cost': 8087.204731276592,\n",
       " 'female non smokers average cost': 8762.297299541116}"
      ]
     },
     "execution_count": 91,
     "metadata": {},
     "output_type": "execute_result"
    }
   ],
   "source": [
    "result = insurance_average_for_smokers(sex_smoker_dict)\n",
    "result"
   ]
  },
  {
   "cell_type": "code",
   "execution_count": 93,
   "metadata": {},
   "outputs": [],
   "source": [
    "MNSAC = result['male non smokers average cost']\n",
    "SAC = result['smokers average cost']\n",
    "NSAC = result['non smokers average cost']\n",
    "MSAC = result['male smokers average cost']\n",
    "FSAC = result['female smokers average cost']\n",
    "FNSAC = result['female non smokers average cost']"
   ]
  },
  {
   "cell_type": "code",
   "execution_count": null,
   "metadata": {},
   "outputs": [],
   "source": []
  },
  {
   "cell_type": "code",
   "execution_count": null,
   "metadata": {},
   "outputs": [],
   "source": []
  }
 ],
 "metadata": {
  "kernelspec": {
   "display_name": "Python 3 (ipykernel)",
   "language": "python",
   "name": "python3"
  },
  "language_info": {
   "codemirror_mode": {
    "name": "ipython",
    "version": 3
   },
   "file_extension": ".py",
   "mimetype": "text/x-python",
   "name": "python",
   "nbconvert_exporter": "python",
   "pygments_lexer": "ipython3",
   "version": "3.10.9"
  }
 },
 "nbformat": 4,
 "nbformat_minor": 4
}
