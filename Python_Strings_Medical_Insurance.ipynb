{
 "cells": [
  {
   "cell_type": "markdown",
   "id": "42ebf3a6",
   "metadata": {},
   "source": [
    "# Python Strings: Medical Insurance Project"
   ]
  },
  {
   "cell_type": "markdown",
   "id": "7fdabfc2",
   "metadata": {},
   "source": [
    "You are a doctor who needs to clean up medical patient records, which are currently stored in one large string.\n",
    "\n",
    "In this project, you will use your new knowledge of Python strings to obtain and clean up medical data so that it is easier to read and analyze.\n",
    "\n",
    "Let's get started!"
   ]
  },
  {
   "cell_type": "markdown",
   "id": "b43c5043",
   "metadata": {},
   "source": [
    "## Working with Strings"
   ]
  },
  {
   "cell_type": "markdown",
   "id": "946b626b",
   "metadata": {},
   "source": [
    "1. First, take a look at the code in the code block below.\n",
    "\n",
    "   The string `medical_data` stores the medical records for ten individuals. Each record is separated by a `;` and contains the name, age, BMI (body mass index), and insurance cost for an individual, in that order.\n",
    "   \n",
    "   Print `medical_data` to see the output below the code block."
   ]
  },
  {
   "cell_type": "code",
   "execution_count": 1,
   "id": "98d79856",
   "metadata": {},
   "outputs": [
    {
     "data": {
      "text/plain": [
       "'Marina Allison   ,27   ,   31.1 , \\n#7010.0   ;Markus Valdez   ,   30, \\n22.4,   #4050.0 ;Connie Ballard ,43 \\n,   25.3 , #12060.0 ;Darnell Weber   \\n,   35   , 20.6   , #7500.0;\\nSylvie Charles   ,22, 22.1 \\n,#3022.0   ;   Vinay Padilla,24,   \\n26.9 ,#4620.0 ;Meredith Santiago, 51   , \\n29.3 ,#16330.0;   Andre Mccarty, \\n19,22.7 , #2900.0 ; \\nLorena Hodson ,65, 33.1 , #19370.0; \\nIsaac Vu ,34, 24.8,   #7045.0'"
      ]
     },
     "execution_count": 1,
     "metadata": {},
     "output_type": "execute_result"
    }
   ],
   "source": [
    "medical_data = \\\n",
    "\"\"\"Marina Allison   ,27   ,   31.1 , \n",
    "#7010.0   ;Markus Valdez   ,   30, \n",
    "22.4,   #4050.0 ;Connie Ballard ,43 \n",
    ",   25.3 , #12060.0 ;Darnell Weber   \n",
    ",   35   , 20.6   , #7500.0;\n",
    "Sylvie Charles   ,22, 22.1 \n",
    ",#3022.0   ;   Vinay Padilla,24,   \n",
    "26.9 ,#4620.0 ;Meredith Santiago, 51   , \n",
    "29.3 ,#16330.0;   Andre Mccarty, \n",
    "19,22.7 , #2900.0 ; \n",
    "Lorena Hodson ,65, 33.1 , #19370.0; \n",
    "Isaac Vu ,34, 24.8,   #7045.0\"\"\"\n",
    "medical_data"
   ]
  },
  {
   "cell_type": "markdown",
   "id": "027929c1",
   "metadata": {},
   "source": [
    "2. We want the insurance costs to be represented in US dollars.\n",
    "\n",
    "   Replace all instances of `#` in `medical_data` with `$`. Store the result in a variable called `updated_medical_data`.\n",
    "   \n",
    "   Print `updated_medical_data`."
   ]
  },
  {
   "cell_type": "code",
   "execution_count": 3,
   "id": "0fafcc50",
   "metadata": {},
   "outputs": [
    {
     "data": {
      "text/plain": [
       "'Marina Allison   ,27   ,   31.1 , \\n$7010.0   ;Markus Valdez   ,   30, \\n22.4,   $4050.0 ;Connie Ballard ,43 \\n,   25.3 , $12060.0 ;Darnell Weber   \\n,   35   , 20.6   , $7500.0;\\nSylvie Charles   ,22, 22.1 \\n,$3022.0   ;   Vinay Padilla,24,   \\n26.9 ,$4620.0 ;Meredith Santiago, 51   , \\n29.3 ,$16330.0;   Andre Mccarty, \\n19,22.7 , $2900.0 ; \\nLorena Hodson ,65, 33.1 , $19370.0; \\nIsaac Vu ,34, 24.8,   $7045.0'"
      ]
     },
     "execution_count": 3,
     "metadata": {},
     "output_type": "execute_result"
    }
   ],
   "source": [
    "updated_medical_data = medical_data.replace('#', '$')\n",
    "updated_medical_data"
   ]
  },
  {
   "cell_type": "markdown",
   "id": "c8077148",
   "metadata": {},
   "source": [
    "3. We want to calculate the number of medical records in our data.\n",
    "\n",
    "   Create a variable called `num_records` and initialize it at 0."
   ]
  },
  {
   "cell_type": "code",
   "execution_count": 4,
   "id": "9da8e807",
   "metadata": {},
   "outputs": [],
   "source": [
    "num_records = 0"
   ]
  },
  {
   "cell_type": "markdown",
   "id": "01a5a118",
   "metadata": {},
   "source": [
    "4. Next, write a `for` loop to iterate through the `updated_medical_data` string. Inside of the loop, add `1` to `num_records` when the current character is equal to `$`."
   ]
  },
  {
   "cell_type": "code",
   "execution_count": 5,
   "id": "7d5aaabf",
   "metadata": {},
   "outputs": [
    {
     "data": {
      "text/plain": [
       "9"
      ]
     },
     "execution_count": 5,
     "metadata": {},
     "output_type": "execute_result"
    }
   ],
   "source": [
    "for char in updated_medical_data:\n",
    "    if char == ';':\n",
    "        num_records += 1\n",
    "num_records"
   ]
  },
  {
   "cell_type": "markdown",
   "id": "8649dd50",
   "metadata": {},
   "source": [
    "5. Outside of the loop, print `num_records` with the following message:\n",
    "\n",
    "   ```\n",
    "   There are {num_records} medical records in the data.\n",
    "   ```"
   ]
  },
  {
   "cell_type": "code",
   "execution_count": 8,
   "id": "6638542f",
   "metadata": {},
   "outputs": [
    {
     "data": {
      "text/plain": [
       "'There are 9 medical records in the data.'"
      ]
     },
     "execution_count": 8,
     "metadata": {},
     "output_type": "execute_result"
    }
   ],
   "source": [
    "\"There are {records} medical records in the data.\".format(records =num_records)"
   ]
  },
  {
   "cell_type": "markdown",
   "id": "10897f50",
   "metadata": {},
   "source": [
    "## Splitting Strings"
   ]
  },
  {
   "cell_type": "markdown",
   "id": "585614f8",
   "metadata": {},
   "source": [
    "6. The medical data in its current form is difficult to analyze. An essential job for a data scientist is to clean up data so that it's easy to work with.\n",
    "\n",
    "   Let's start off by splitting the `updated_medical_data` string into a list of each record. Remember that each medical record is separated by a `;` in the string.\n",
    "   \n",
    "   Store the result in a variable called `medical_data_split` and print this variable."
   ]
  },
  {
   "cell_type": "code",
   "execution_count": 9,
   "id": "76cae5e8",
   "metadata": {},
   "outputs": [
    {
     "data": {
      "text/plain": [
       "['Marina Allison   ,27   ,   31.1 , \\n$7010.0   ',\n",
       " 'Markus Valdez   ,   30, \\n22.4,   $4050.0 ',\n",
       " 'Connie Ballard ,43 \\n,   25.3 , $12060.0 ',\n",
       " 'Darnell Weber   \\n,   35   , 20.6   , $7500.0',\n",
       " '\\nSylvie Charles   ,22, 22.1 \\n,$3022.0   ',\n",
       " '   Vinay Padilla,24,   \\n26.9 ,$4620.0 ',\n",
       " 'Meredith Santiago, 51   , \\n29.3 ,$16330.0',\n",
       " '   Andre Mccarty, \\n19,22.7 , $2900.0 ',\n",
       " ' \\nLorena Hodson ,65, 33.1 , $19370.0',\n",
       " ' \\nIsaac Vu ,34, 24.8,   $7045.0']"
      ]
     },
     "execution_count": 9,
     "metadata": {},
     "output_type": "execute_result"
    }
   ],
   "source": [
    "medical_data_split =  updated_medical_data.split(';')\n",
    "medical_data_split"
   ]
  },
  {
   "cell_type": "markdown",
   "id": "1eb23af4",
   "metadata": {},
   "source": [
    "7. Our data is now stored in a list, but it is still hard to read. Let's split each medical record into its own list.\n",
    "\n",
    "   First, define an empty list called `medical_records`."
   ]
  },
  {
   "cell_type": "code",
   "execution_count": 10,
   "id": "434ed907",
   "metadata": {},
   "outputs": [],
   "source": [
    "medical_records = []"
   ]
  },
  {
   "cell_type": "markdown",
   "id": "1d28c632",
   "metadata": {},
   "source": [
    "8. Next, iterate through `medical_data_split` and for each record, split the string after each comma (`,`) and append the split string to `medical_records`.\n",
    "\n",
    "   Print `medical_records` after the loop."
   ]
  },
  {
   "cell_type": "code",
   "execution_count": 11,
   "id": "d57c33b1",
   "metadata": {},
   "outputs": [
    {
     "data": {
      "text/plain": [
       "[['Marina Allison   ', '27   ', '   31.1 ', ' \\n$7010.0   '],\n",
       " ['Markus Valdez   ', '   30', ' \\n22.4', '   $4050.0 '],\n",
       " ['Connie Ballard ', '43 \\n', '   25.3 ', ' $12060.0 '],\n",
       " ['Darnell Weber   \\n', '   35   ', ' 20.6   ', ' $7500.0'],\n",
       " ['\\nSylvie Charles   ', '22', ' 22.1 \\n', '$3022.0   '],\n",
       " ['   Vinay Padilla', '24', '   \\n26.9 ', '$4620.0 '],\n",
       " ['Meredith Santiago', ' 51   ', ' \\n29.3 ', '$16330.0'],\n",
       " ['   Andre Mccarty', ' \\n19', '22.7 ', ' $2900.0 '],\n",
       " [' \\nLorena Hodson ', '65', ' 33.1 ', ' $19370.0'],\n",
       " [' \\nIsaac Vu ', '34', ' 24.8', '   $7045.0']]"
      ]
     },
     "execution_count": 11,
     "metadata": {},
     "output_type": "execute_result"
    }
   ],
   "source": [
    "for data in medical_data_split:\n",
    "    medical_records.append(data.split(','))\n",
    "medical_records"
   ]
  },
  {
   "cell_type": "markdown",
   "id": "82da2380",
   "metadata": {},
   "source": [
    "## Cleaning Data"
   ]
  },
  {
   "cell_type": "markdown",
   "id": "5e07b261",
   "metadata": {},
   "source": [
    "9. Our data is now slightly more readable. However, it is not properly formatted - it contains unnecessary whitespace.\n",
    "\n",
    "   To fix this, let's start by creating an empty list called `medical_records_clean`."
   ]
  },
  {
   "cell_type": "code",
   "execution_count": 12,
   "id": "fe45e1b0",
   "metadata": {},
   "outputs": [],
   "source": [
    "medical_records_clean = []"
   ]
  },
  {
   "cell_type": "markdown",
   "id": "6c27f1d8",
   "metadata": {},
   "source": [
    "10. Next, use a `for` loop to iterate through `medical_records`.\n",
    "\n",
    "    Inside of the loop, create an empty list called `record_clean`. We'll use this list to store a formatted version of each medical record."
   ]
  },
  {
   "cell_type": "code",
   "execution_count": 15,
   "id": "1d13c527",
   "metadata": {},
   "outputs": [
    {
     "data": {
      "text/plain": [
       "[['Marina Allison', '27', '31.1', '$7010.0'],\n",
       " ['Markus Valdez', '30', '22.4', '$4050.0'],\n",
       " ['Connie Ballard', '43', '25.3', '$12060.0'],\n",
       " ['Darnell Weber', '35', '20.6', '$7500.0'],\n",
       " ['Sylvie Charles', '22', '22.1', '$3022.0'],\n",
       " ['Vinay Padilla', '24', '26.9', '$4620.0'],\n",
       " ['Meredith Santiago', '51', '29.3', '$16330.0'],\n",
       " ['Andre Mccarty', '19', '22.7', '$2900.0'],\n",
       " ['Lorena Hodson', '65', '33.1', '$19370.0'],\n",
       " ['Isaac Vu', '34', '24.8', '$7045.0']]"
      ]
     },
     "execution_count": 15,
     "metadata": {},
     "output_type": "execute_result"
    }
   ],
   "source": [
    "for data in medical_records:\n",
    "    record_clean = []\n",
    "    for record in data:\n",
    "        record_clean.append(record.strip())\n",
    "    medical_records_clean.append(record_clean)\n",
    "medical_records_clean"
   ]
  },
  {
   "cell_type": "markdown",
   "id": "af65cf51",
   "metadata": {},
   "source": [
    "11. After the `record_clean` variable, create a nested `for` loop that goes through each `record`:\n",
    "\n",
    "    ```py\n",
    "    for item in record\n",
    "    ```\n",
    "    \n",
    "    Inside of this loop, append `item.strip()` to `record_clean` to remove any whitespace from the string."
   ]
  },
  {
   "cell_type": "code",
   "execution_count": null,
   "id": "62c68cf6",
   "metadata": {},
   "outputs": [],
   "source": []
  },
  {
   "cell_type": "markdown",
   "id": "173d51bf",
   "metadata": {},
   "source": [
    "12. Finally, we need to add each cleaned up record to `medical_records_clean`.\n",
    "\n",
    "    Outside of the nested `for` loop, append `record_clean` to `medical_records_clean`."
   ]
  },
  {
   "cell_type": "code",
   "execution_count": null,
   "id": "4ac79cd2",
   "metadata": {},
   "outputs": [],
   "source": []
  },
  {
   "cell_type": "markdown",
   "id": "d2f0344f",
   "metadata": {},
   "source": [
    "13. Print `medical_records_clean` outside of the `for` loops to see the output.\n",
    "\n",
    "    You should see output that is formatted and much easier to read."
   ]
  },
  {
   "cell_type": "code",
   "execution_count": 16,
   "id": "c8ab9356",
   "metadata": {},
   "outputs": [
    {
     "data": {
      "text/plain": [
       "[['Marina Allison', '27', '31.1', '$7010.0'],\n",
       " ['Markus Valdez', '30', '22.4', '$4050.0'],\n",
       " ['Connie Ballard', '43', '25.3', '$12060.0'],\n",
       " ['Darnell Weber', '35', '20.6', '$7500.0'],\n",
       " ['Sylvie Charles', '22', '22.1', '$3022.0'],\n",
       " ['Vinay Padilla', '24', '26.9', '$4620.0'],\n",
       " ['Meredith Santiago', '51', '29.3', '$16330.0'],\n",
       " ['Andre Mccarty', '19', '22.7', '$2900.0'],\n",
       " ['Lorena Hodson', '65', '33.1', '$19370.0'],\n",
       " ['Isaac Vu', '34', '24.8', '$7045.0']]"
      ]
     },
     "execution_count": 16,
     "metadata": {},
     "output_type": "execute_result"
    }
   ],
   "source": [
    "medical_records_clean"
   ]
  },
  {
   "cell_type": "markdown",
   "id": "e27bf497",
   "metadata": {},
   "source": [
    "## Analyzing Data"
   ]
  },
  {
   "cell_type": "markdown",
   "id": "9e73a4f2",
   "metadata": {},
   "source": [
    "14. Our data is now clean and ready for analysis.\n",
    "\n",
    "    For example, to print out the names of each of the ten individuals, we can use the following loop:\n",
    "    ```py\n",
    "    for record in medical_records_clean:\n",
    "      print(record[0])\n",
    "    ```\n",
    "    \n",
    "    Add this loop to the code block below and run it."
   ]
  },
  {
   "cell_type": "code",
   "execution_count": 17,
   "id": "3ade320b",
   "metadata": {},
   "outputs": [
    {
     "name": "stdout",
     "output_type": "stream",
     "text": [
      "Marina Allison\n",
      "Markus Valdez\n",
      "Connie Ballard\n",
      "Darnell Weber\n",
      "Sylvie Charles\n",
      "Vinay Padilla\n",
      "Meredith Santiago\n",
      "Andre Mccarty\n",
      "Lorena Hodson\n",
      "Isaac Vu\n"
     ]
    }
   ],
   "source": [
    "for record in medical_records_clean:\n",
    "  print(record[0])"
   ]
  },
  {
   "cell_type": "markdown",
   "id": "283e1a2f",
   "metadata": {},
   "source": [
    "15. You want all of the names in the medical records to be uppercase characters.\n",
    "\n",
    "    In the `for` loop, update `records[0]` before the `print` statement so that all of the characters are uppercase.\n",
    "    \n",
    "    Run the code to see the result."
   ]
  },
  {
   "cell_type": "code",
   "execution_count": 18,
   "id": "ee24f738",
   "metadata": {},
   "outputs": [
    {
     "name": "stdout",
     "output_type": "stream",
     "text": [
      "MARINA ALLISON\n",
      "MARKUS VALDEZ\n",
      "CONNIE BALLARD\n",
      "DARNELL WEBER\n",
      "SYLVIE CHARLES\n",
      "VINAY PADILLA\n",
      "MEREDITH SANTIAGO\n",
      "ANDRE MCCARTY\n",
      "LORENA HODSON\n",
      "ISAAC VU\n"
     ]
    }
   ],
   "source": [
    "for record in medical_records_clean:\n",
    "  print(record[0].upper())"
   ]
  },
  {
   "cell_type": "markdown",
   "id": "e16d6979",
   "metadata": {},
   "source": [
    "16. Let's store each name, age, BMI, and insurance cost in separate lists.\n",
    "\n",
    "    To start, create four empty lists:\n",
    "    - `names`\n",
    "    - `ages`\n",
    "    - `bmis`\n",
    "    - `insurance_costs`"
   ]
  },
  {
   "cell_type": "code",
   "execution_count": 20,
   "id": "e77b8028",
   "metadata": {},
   "outputs": [],
   "source": [
    "names =[]\n",
    "ages = []\n",
    "bmis = []\n",
    "insurance_costs = []"
   ]
  },
  {
   "cell_type": "markdown",
   "id": "637e6b7e",
   "metadata": {},
   "source": [
    "17. Next, iterate through `medical_records_clean` and for each record:\n",
    "    - Append the name to `names`.\n",
    "    - Append the age to `ages`.\n",
    "    - Append the BMI to `bmis`.\n",
    "    - Append the insurance cost to `insurance_costs`."
   ]
  },
  {
   "cell_type": "code",
   "execution_count": 22,
   "id": "2e370347",
   "metadata": {},
   "outputs": [],
   "source": [
    "for record in medical_records_clean:\n",
    "    names.append(record[0])\n",
    "    ages.append(record[1])\n",
    "    bmis.append(record[2])\n",
    "    insurance_costs.append(record[3])"
   ]
  },
  {
   "cell_type": "markdown",
   "id": "92b26a50",
   "metadata": {},
   "source": [
    "18. Print `names`, `ages`, `bmis`, and `insurance_costs` outside of the loop.\n",
    "\n",
    "    Make sure the output is what you expect."
   ]
  },
  {
   "cell_type": "code",
   "execution_count": 23,
   "id": "72fd0613",
   "metadata": {},
   "outputs": [
    {
     "name": "stdout",
     "output_type": "stream",
     "text": [
      "['Marina Allison', 'Markus Valdez', 'Connie Ballard', 'Darnell Weber', 'Sylvie Charles', 'Vinay Padilla', 'Meredith Santiago', 'Andre Mccarty', 'Lorena Hodson', 'Isaac Vu']\n",
      "['27', '30', '43', '35', '22', '24', '51', '19', '65', '34']\n",
      "['31.1', '22.4', '25.3', '20.6', '22.1', '26.9', '29.3', '22.7', '33.1', '24.8']\n",
      "['$7010.0', '$4050.0', '$12060.0', '$7500.0', '$3022.0', '$4620.0', '$16330.0', '$2900.0', '$19370.0', '$7045.0']\n"
     ]
    }
   ],
   "source": [
    "print(names)\n",
    "print(ages)\n",
    "print(bmis)\n",
    "print(insurance_costs)"
   ]
  },
  {
   "cell_type": "markdown",
   "id": "c5ec3f19",
   "metadata": {},
   "source": [
    "19. Now that all of our data is in separate lists, we can easily perform analysis on that data. Let's calculate the average BMI in our dataset.\n",
    "\n",
    "    First, create a variable called `total_bmi` and set it equal to 0."
   ]
  },
  {
   "cell_type": "code",
   "execution_count": 24,
   "id": "303e90dd",
   "metadata": {},
   "outputs": [],
   "source": [
    "total_bmi = 0"
   ]
  },
  {
   "cell_type": "markdown",
   "id": "d2c713d2",
   "metadata": {},
   "source": [
    "20. Next, use a `for` loop to iterate through `bmis` and add each `bmi` to `total_bmi`.\n",
    "\n",
    "    Remember to convert `bmi` to a float."
   ]
  },
  {
   "cell_type": "code",
   "execution_count": 25,
   "id": "b174204c",
   "metadata": {},
   "outputs": [],
   "source": [
    "for bmi in bmis:\n",
    "    total_bmi += float(bmi)"
   ]
  },
  {
   "cell_type": "markdown",
   "id": "2b4017c1",
   "metadata": {},
   "source": [
    "21. After the for loop, create a variable called `average_bmi` that stores the `total_bmi` divided by the length of the `bmis` list.\n",
    "\n",
    "    Print out `average_bmi` with the following message:\n",
    "    ```\n",
    "    Average BMI: {average_bmi}\n",
    "    ```"
   ]
  },
  {
   "cell_type": "code",
   "execution_count": 26,
   "id": "fc16ab5d",
   "metadata": {},
   "outputs": [
    {
     "data": {
      "text/plain": [
       "25.830000000000002"
      ]
     },
     "execution_count": 26,
     "metadata": {},
     "output_type": "execute_result"
    }
   ],
   "source": [
    "average_bmi = total_bmi / len(bmis)\n",
    "average_bmi"
   ]
  },
  {
   "cell_type": "markdown",
   "id": "723d4d6f",
   "metadata": {},
   "source": [
    "## Extra"
   ]
  },
  {
   "cell_type": "markdown",
   "id": "6b1a8e94",
   "metadata": {},
   "source": [
    "22. Congratulations! In this project, you used Python strings to transform and clean up medical data.\n",
    "\n",
    "    As a data scientist, it's important that you have clean and accurate data before you analyze it. You now have a better idea of the data preparation process moving forward.\n",
    "    \n",
    "    If you'd like extra practice with Python strings, here are some suggestions to get you started:\n",
    "    - Calculate the average insurance cost in `insurance_costs`. You will have the remove the `$` in order to calculate this.\n",
    "    - Write a for loop that outputs a string for each individual in the following format:\n",
    "    ```\n",
    "    Marina is 27 years old with a BMI of 31.1 and an insurance cost of $7010.0.\n",
    "Markus is 30 years old with a BMI of 22.4 and an insurance cost of $4050.0.\n",
    "    ...\n",
    "    ...\n",
    "    \n",
    "    Happy coding!"
   ]
  },
  {
   "cell_type": "code",
   "execution_count": 34,
   "id": "cbe47776",
   "metadata": {},
   "outputs": [
    {
     "data": {
      "text/plain": [
       "['7010.0',\n",
       " '4050.0',\n",
       " '12060.0',\n",
       " '7500.0',\n",
       " '3022.0',\n",
       " '4620.0',\n",
       " '16330.0',\n",
       " '2900.0',\n",
       " '19370.0',\n",
       " '7045.0']"
      ]
     },
     "execution_count": 34,
     "metadata": {},
     "output_type": "execute_result"
    }
   ],
   "source": [
    "total_insurance = 0\n",
    "insurance_costs_in_dollars = ' '.join(insurance_costs).replace('$', '').split()\n",
    "insurance_costs_in_dollars"
   ]
  },
  {
   "cell_type": "code",
   "execution_count": 33,
   "id": "c30eba87",
   "metadata": {},
   "outputs": [
    {
     "data": {
      "text/plain": [
       "8390.7"
      ]
     },
     "execution_count": 33,
     "metadata": {},
     "output_type": "execute_result"
    }
   ],
   "source": [
    "for cost in insurance_costs_in_dollars:\n",
    "    total_insurance += float(cost)\n",
    "average_insurance = total_insurance / len(insurance_costs)\n",
    "average_insurance"
   ]
  },
  {
   "cell_type": "markdown",
   "id": "b3f87cbc",
   "metadata": {},
   "source": [
    "<h4>Outputting a patients data</h4>\n",
    "<ol>\n",
    "    <li>Create a function which takes in a persons name</li>\n",
    "    <li>Use .index(NAME) to know where the patients records are located.</li>\n",
    "    <li>Print paitent data</li>\n",
    "</ol>"
   ]
  },
  {
   "cell_type": "code",
   "execution_count": 44,
   "id": "1b37b753",
   "metadata": {},
   "outputs": [],
   "source": [
    "def paitent_data(name):\n",
    "    try:\n",
    "        names.index(name)\n",
    "    except ValueError:\n",
    "        return \"Sorry that indvidual is not in our system\"\n",
    "    \n",
    "    patient_id = names.index(name)\n",
    "    return \"{name} is {age} years old and has a BMI of {bmi}. Their insurnace cost is {insurance}.\".format(name=name, age=ages[patient_id], bmi=bmis[patient_id], insurance=insurance_costs[patient_id])\n",
    "        "
   ]
  },
  {
   "cell_type": "code",
   "execution_count": 48,
   "id": "610a6615",
   "metadata": {},
   "outputs": [
    {
     "data": {
      "text/plain": [
       "'Marina Allison is 27 years old and has a BMI of 31.1. Their insurnace cost is $7010.0.'"
      ]
     },
     "execution_count": 48,
     "metadata": {},
     "output_type": "execute_result"
    }
   ],
   "source": [
    "paitent_data('Marina Allison')"
   ]
  },
  {
   "cell_type": "code",
   "execution_count": null,
   "id": "61313fe1",
   "metadata": {},
   "outputs": [],
   "source": []
  }
 ],
 "metadata": {
  "kernelspec": {
   "display_name": "Python 3 (ipykernel)",
   "language": "python",
   "name": "python3"
  },
  "language_info": {
   "codemirror_mode": {
    "name": "ipython",
    "version": 3
   },
   "file_extension": ".py",
   "mimetype": "text/x-python",
   "name": "python",
   "nbconvert_exporter": "python",
   "pygments_lexer": "ipython3",
   "version": "3.10.9"
  }
 },
 "nbformat": 4,
 "nbformat_minor": 5
}
