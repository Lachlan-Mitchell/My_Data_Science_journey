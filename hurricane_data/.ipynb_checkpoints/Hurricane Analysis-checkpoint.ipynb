{
 "cells": [
  {
   "cell_type": "markdown",
   "id": "58875e7a",
   "metadata": {},
   "source": [
    "# Hurricane Analysis"
   ]
  },
  {
   "cell_type": "markdown",
   "id": "9a2d9627",
   "metadata": {},
   "source": [
    "#### Overview"
   ]
  },
  {
   "cell_type": "markdown",
   "id": "633e5dde",
   "metadata": {},
   "source": [
    "This project is slightly different than others you have encountered thus far. Instead of a step-by-step tutorial, this project contains a series of open-ended requirements which describe the project you'll be building. There are many possible ways to correctly fulfill all of these requirements, and you should expect to use the internet, Codecademy, and other resources when you encounter a problem that you cannot easily solve."
   ]
  },
  {
   "cell_type": "markdown",
   "id": "52f01f07",
   "metadata": {},
   "source": [
    "#### Project Goals"
   ]
  },
  {
   "cell_type": "markdown",
   "id": "d9d06c43",
   "metadata": {},
   "source": [
    "You will work to write several functions that organize and manipulate data about Category 5 Hurricanes, the strongest hurricanes as rated by their wind speed. Each one of these functions will use a number of parameters, conditionals, lists, dictionaries, string manipulation, and return statements."
   ]
  },
  {
   "cell_type": "markdown",
   "id": "7fbb9fb5",
   "metadata": {},
   "source": [
    "#### Prerequisites"
   ]
  },
  {
   "cell_type": "markdown",
   "id": "4732a1e8",
   "metadata": {},
   "source": [
    "In order to complete this project, you should have completed the Loops and Dictionaries sections of the [Learn Python 3 Course](https://www.codecademy.com/learn/learn-python-3). This content is also covered in the [Data Scientist Career Path](https://www.codecademy.com/learn/paths/data-science/)."
   ]
  },
  {
   "cell_type": "markdown",
   "id": "1e924903",
   "metadata": {},
   "source": [
    "## Project Requirements"
   ]
  },
  {
   "cell_type": "markdown",
   "id": "35d6f74d",
   "metadata": {},
   "source": [
    "1. Hurricanes, also known as cyclones or typhoons, are one of the most powerful forces of nature on Earth. Due to climate change caused by human activity, the number and intensity of hurricanes has risen, calling for better preparation by the many communities that are devastated by them. As a concerned environmentalist, you want to look at data about the most powerful hurricanes that have occured. \n",
    "\n",
    "   Begin by looking at the `damages` list. The list contains strings representing the total cost in USD(`$`) caused by `34` category 5 hurricanes (wind speeds $\\ge$ 157 mph (252 km/h)) in the Atlantic region. For some of the hurricanes, damage data was not recorded (`\"Damages not recorded\"`), while the rest are written in the format `\"Prefix-B/M\"`, where `B` stands for billions (`1000000000`) and `M` stands for millions (`1000000`).\n",
    "   \n",
    "   Write a function that returns a new list of updated damages where the recorded data is converted to float values and the missing data is retained as `\"Damages not recorded\"`.\n",
    "   \n",
    "   Test your function with the data stored in `damages`."
   ]
  },
  {
   "cell_type": "code",
   "execution_count": 1,
   "id": "d8d3c50b",
   "metadata": {},
   "outputs": [
    {
     "name": "stdout",
     "output_type": "stream",
     "text": [
      "34\n"
     ]
    },
    {
     "data": {
      "text/plain": [
       "['Damages not recorded',\n",
       " 100000000.0,\n",
       " 'Damages not recorded',\n",
       " 40000000.0,\n",
       " 27900000.0,\n",
       " 5000000.0,\n",
       " 'Damages not recorded',\n",
       " 306000000.0,\n",
       " 2000000.0,\n",
       " 65800000.0,\n",
       " 326000000.0,\n",
       " 60300000.0,\n",
       " 208000000.0,\n",
       " 1420000000.0,\n",
       " 25400000.0,\n",
       " 'Damages not recorded',\n",
       " 1540000000.0,\n",
       " 1240000000.0,\n",
       " 7100000000.0,\n",
       " 10000000000.0,\n",
       " 26500000000.0,\n",
       " 6200000000.0,\n",
       " 5370000000.0,\n",
       " 23300000000.0,\n",
       " 1010000000.0,\n",
       " 125000000000.0,\n",
       " 12000000000.0,\n",
       " 29400000000.0,\n",
       " 1760000000.0,\n",
       " 720000000.0,\n",
       " 15100000000.0,\n",
       " 64800000000.0,\n",
       " 91600000000.0,\n",
       " 25100000000.0]"
      ]
     },
     "execution_count": 1,
     "metadata": {},
     "output_type": "execute_result"
    }
   ],
   "source": [
    "# damages (USD($)) of hurricanes\n",
    "damages = ['Damages not recorded', '100M', 'Damages not recorded', '40M',\n",
    "          '27.9M', '5M', 'Damages not recorded', '306M', '2M', '65.8M',\n",
    "          '326M', '60.3M', '208M', '1.42B', '25.4M', 'Damages not recorded',\n",
    "          '1.54B', '1.24B', '7.1B', '10B', '26.5B', '6.2B', '5.37B', '23.3B',\n",
    "          '1.01B', '125B', '12B', '29.4B', '1.76B', '720M', '15.1B', '64.8B',\n",
    "          '91.6B', '25.1B']\n",
    "\n",
    "# 1\n",
    "# Update Recorded Damages\n",
    "conversion = {\"M\": 1000000,\n",
    "             \"B\": 1000000000}\n",
    "\n",
    "# test function by updating damages\n",
    "updated_damages = []\n",
    "def damages_updated(damages):\n",
    "    for cost in damages:  \n",
    "        if 'M'in cost:\n",
    "            cost = cost.replace('M', '')\n",
    "            cost = float(cost)\n",
    "            cost = float(cost * conversion[\"M\"])\n",
    "            updated_damages.append(cost)\n",
    "        elif \"B\" in cost:\n",
    "            cost = cost.replace('B', '')\n",
    "            cost = float(cost)\n",
    "            cost = float(cost * conversion[\"B\"])\n",
    "            updated_damages.append(cost)\n",
    "        else:\n",
    "            updated_damages.append(cost)\n",
    "    return updated_damages\n",
    "\n",
    "print(len(damages_updated(damages)))\n",
    "updated_damages\n"
   ]
  },
  {
   "cell_type": "markdown",
   "id": "36ac47b6",
   "metadata": {},
   "source": [
    "2. Additional data collected on the `34` strongest Atlantic hurricanes are provided in a series of lists. The data includes:\n",
    "   - `names`: names of the hurricanes\n",
    "   - `months`: months in which the hurricanes occurred\n",
    "   - `years`: years in which the hurricanes occurred\n",
    "   - `max_sustained_winds`: maximum sustained winds (miles per hour) of the hurricanes\n",
    "   - `areas_affected`: list of different areas affected by each of the hurricanes\n",
    "   - `deaths`: total number of deaths caused by each of the hurricanes\n",
    "   \n",
    "   The data is organized such that the data at each index, from `0` to `33`, corresponds to the same hurricane.\n",
    "   \n",
    "   For example, `names[0]` yields the \"Cuba I\" hurricane, which occurred in `months[0]` (October) `years[0]` (1924).\n",
    "   \n",
    "   Write a function that constructs a dictionary made out of the lists, where the keys of the dictionary are the names of the hurricanes, and the values are dictionaries themselves containing a key for each piece of data (`Name`, `Month`, `Year`, `Max Sustained Wind`, `Areas Affected`, `Damage`, `Death`) about the hurricane.\n",
    "   \n",
    "   Thus the key `\"Cuba I\"` would have the value: `{'Name': 'Cuba I', 'Month': 'October', 'Year': 1924, 'Max Sustained Wind': 165, 'Areas Affected': ['Central America', 'Mexico', 'Cuba', 'Florida', 'The Bahamas'], 'Damage': 'Damages not recorded', 'Deaths': 90}`.\n",
    "   \n",
    "   Test your function on the lists of data provided."
   ]
  },
  {
   "cell_type": "code",
   "execution_count": 2,
   "id": "641aa113",
   "metadata": {
    "scrolled": false
   },
   "outputs": [
    {
     "data": {
      "text/plain": [
       "{'Cuba I': {'Name': 'Cuba I',\n",
       "  'Month': 'October',\n",
       "  'Year': 1924,\n",
       "  'Max Sustained Wind in MPH': 165,\n",
       "  'Areas Affected': ['Central America',\n",
       "   'Mexico',\n",
       "   'Cuba',\n",
       "   'Florida',\n",
       "   'The Bahamas'],\n",
       "  'Damage': 'Damages not recorded',\n",
       "  'Deaths': 90},\n",
       " 'San Felipe II Okeechobee': {'Name': 'San Felipe II Okeechobee',\n",
       "  'Month': 'September',\n",
       "  'Year': 1928,\n",
       "  'Max Sustained Wind in MPH': 160,\n",
       "  'Areas Affected': ['Lesser Antilles',\n",
       "   'The Bahamas',\n",
       "   'United States East Coast',\n",
       "   'Atlantic Canada'],\n",
       "  'Damage': 100000000.0,\n",
       "  'Deaths': 4000},\n",
       " 'Bahamas': {'Name': 'Bahamas',\n",
       "  'Month': 'September',\n",
       "  'Year': 1932,\n",
       "  'Max Sustained Wind in MPH': 160,\n",
       "  'Areas Affected': ['The Bahamas', 'Northeastern United States'],\n",
       "  'Damage': 'Damages not recorded',\n",
       "  'Deaths': 16},\n",
       " 'Cuba II': {'Name': 'Cuba II',\n",
       "  'Month': 'November',\n",
       "  'Year': 1932,\n",
       "  'Max Sustained Wind in MPH': 175,\n",
       "  'Areas Affected': ['Lesser Antilles',\n",
       "   'Jamaica',\n",
       "   'Cayman Islands',\n",
       "   'Cuba',\n",
       "   'The Bahamas',\n",
       "   'Bermuda'],\n",
       "  'Damage': 40000000.0,\n",
       "  'Deaths': 3103},\n",
       " 'CubaBrownsville': {'Name': 'CubaBrownsville',\n",
       "  'Month': 'August',\n",
       "  'Year': 1933,\n",
       "  'Max Sustained Wind in MPH': 160,\n",
       "  'Areas Affected': ['The Bahamas', 'Cuba', 'Florida', 'Texas', 'Tamaulipas'],\n",
       "  'Damage': 27900000.0,\n",
       "  'Deaths': 179},\n",
       " 'Tampico': {'Name': 'Tampico',\n",
       "  'Month': 'September',\n",
       "  'Year': 1933,\n",
       "  'Max Sustained Wind in MPH': 160,\n",
       "  'Areas Affected': ['Jamaica', 'Yucatn Peninsula'],\n",
       "  'Damage': 5000000.0,\n",
       "  'Deaths': 184},\n",
       " 'Labor Day': {'Name': 'Labor Day',\n",
       "  'Month': 'September',\n",
       "  'Year': 1935,\n",
       "  'Max Sustained Wind in MPH': 185,\n",
       "  'Areas Affected': ['The Bahamas',\n",
       "   'Florida',\n",
       "   'Georgia',\n",
       "   'The Carolinas',\n",
       "   'Virginia'],\n",
       "  'Damage': 'Damages not recorded',\n",
       "  'Deaths': 408},\n",
       " 'New England': {'Name': 'New England',\n",
       "  'Month': 'September',\n",
       "  'Year': 1938,\n",
       "  'Max Sustained Wind in MPH': 160,\n",
       "  'Areas Affected': ['Southeastern United States',\n",
       "   'Northeastern United States',\n",
       "   'Southwestern Quebec'],\n",
       "  'Damage': 306000000.0,\n",
       "  'Deaths': 682},\n",
       " 'Carol': {'Name': 'Carol',\n",
       "  'Month': 'September',\n",
       "  'Year': 1953,\n",
       "  'Max Sustained Wind in MPH': 160,\n",
       "  'Areas Affected': ['Bermuda', 'New England', 'Atlantic Canada'],\n",
       "  'Damage': 2000000.0,\n",
       "  'Deaths': 5},\n",
       " 'Janet': {'Name': 'Janet',\n",
       "  'Month': 'September',\n",
       "  'Year': 1955,\n",
       "  'Max Sustained Wind in MPH': 175,\n",
       "  'Areas Affected': ['Lesser Antilles', 'Central America'],\n",
       "  'Damage': 65800000.0,\n",
       "  'Deaths': 1023},\n",
       " 'Carla': {'Name': 'Carla',\n",
       "  'Month': 'September',\n",
       "  'Year': 1961,\n",
       "  'Max Sustained Wind in MPH': 175,\n",
       "  'Areas Affected': ['Texas', 'Louisiana', 'Midwestern United States'],\n",
       "  'Damage': 326000000.0,\n",
       "  'Deaths': 43},\n",
       " 'Hattie': {'Name': 'Hattie',\n",
       "  'Month': 'October',\n",
       "  'Year': 1961,\n",
       "  'Max Sustained Wind in MPH': 160,\n",
       "  'Areas Affected': ['Central America'],\n",
       "  'Damage': 60300000.0,\n",
       "  'Deaths': 319},\n",
       " 'Beulah': {'Name': 'Beulah',\n",
       "  'Month': 'September',\n",
       "  'Year': 1967,\n",
       "  'Max Sustained Wind in MPH': 160,\n",
       "  'Areas Affected': ['The Caribbean', 'Mexico', 'Texas'],\n",
       "  'Damage': 208000000.0,\n",
       "  'Deaths': 688},\n",
       " 'Camille': {'Name': 'Camille',\n",
       "  'Month': 'August',\n",
       "  'Year': 1969,\n",
       "  'Max Sustained Wind in MPH': 175,\n",
       "  'Areas Affected': ['Cuba', 'United States Gulf Coast'],\n",
       "  'Damage': 1420000000.0,\n",
       "  'Deaths': 259},\n",
       " 'Edith': {'Name': 'Edith',\n",
       "  'Month': 'September',\n",
       "  'Year': 1971,\n",
       "  'Max Sustained Wind in MPH': 160,\n",
       "  'Areas Affected': ['The Caribbean',\n",
       "   'Central America',\n",
       "   'Mexico',\n",
       "   'United States Gulf Coast'],\n",
       "  'Damage': 25400000.0,\n",
       "  'Deaths': 37},\n",
       " 'Anita': {'Name': 'Anita',\n",
       "  'Month': 'September',\n",
       "  'Year': 1977,\n",
       "  'Max Sustained Wind in MPH': 175,\n",
       "  'Areas Affected': ['Mexico'],\n",
       "  'Damage': 'Damages not recorded',\n",
       "  'Deaths': 11},\n",
       " 'David': {'Name': 'David',\n",
       "  'Month': 'August',\n",
       "  'Year': 1979,\n",
       "  'Max Sustained Wind in MPH': 175,\n",
       "  'Areas Affected': ['The Caribbean', 'United States East coast'],\n",
       "  'Damage': 1540000000.0,\n",
       "  'Deaths': 2068},\n",
       " 'Allen': {'Name': 'Allen',\n",
       "  'Month': 'August',\n",
       "  'Year': 1980,\n",
       "  'Max Sustained Wind in MPH': 190,\n",
       "  'Areas Affected': ['The Caribbean',\n",
       "   'Yucatn Peninsula',\n",
       "   'Mexico',\n",
       "   'South Texas'],\n",
       "  'Damage': 1240000000.0,\n",
       "  'Deaths': 269},\n",
       " 'Gilbert': {'Name': 'Gilbert',\n",
       "  'Month': 'September',\n",
       "  'Year': 1988,\n",
       "  'Max Sustained Wind in MPH': 185,\n",
       "  'Areas Affected': ['Jamaica',\n",
       "   'Venezuela',\n",
       "   'Central America',\n",
       "   'Hispaniola',\n",
       "   'Mexico'],\n",
       "  'Damage': 7100000000.0,\n",
       "  'Deaths': 318},\n",
       " 'Hugo': {'Name': 'Hugo',\n",
       "  'Month': 'September',\n",
       "  'Year': 1989,\n",
       "  'Max Sustained Wind in MPH': 160,\n",
       "  'Areas Affected': ['The Caribbean', 'United States East Coast'],\n",
       "  'Damage': 10000000000.0,\n",
       "  'Deaths': 107},\n",
       " 'Andrew': {'Name': 'Andrew',\n",
       "  'Month': 'August',\n",
       "  'Year': 1992,\n",
       "  'Max Sustained Wind in MPH': 175,\n",
       "  'Areas Affected': ['The Bahamas', 'Florida', 'United States Gulf Coast'],\n",
       "  'Damage': 26500000000.0,\n",
       "  'Deaths': 65},\n",
       " 'Mitch': {'Name': 'Mitch',\n",
       "  'Month': 'October',\n",
       "  'Year': 1998,\n",
       "  'Max Sustained Wind in MPH': 180,\n",
       "  'Areas Affected': ['Central America', 'Yucatn Peninsula', 'South Florida'],\n",
       "  'Damage': 6200000000.0,\n",
       "  'Deaths': 19325},\n",
       " 'Isabel': {'Name': 'Isabel',\n",
       "  'Month': 'September',\n",
       "  'Year': 2003,\n",
       "  'Max Sustained Wind in MPH': 165,\n",
       "  'Areas Affected': ['Greater Antilles',\n",
       "   'Bahamas',\n",
       "   'Eastern United States',\n",
       "   'Ontario'],\n",
       "  'Damage': 5370000000.0,\n",
       "  'Deaths': 51},\n",
       " 'Ivan': {'Name': 'Ivan',\n",
       "  'Month': 'September',\n",
       "  'Year': 2004,\n",
       "  'Max Sustained Wind in MPH': 165,\n",
       "  'Areas Affected': ['The Caribbean', 'Venezuela', 'United States Gulf Coast'],\n",
       "  'Damage': 23300000000.0,\n",
       "  'Deaths': 124},\n",
       " 'Emily': {'Name': 'Emily',\n",
       "  'Month': 'July',\n",
       "  'Year': 2005,\n",
       "  'Max Sustained Wind in MPH': 160,\n",
       "  'Areas Affected': ['Windward Islands', 'Jamaica', 'Mexico', 'Texas'],\n",
       "  'Damage': 1010000000.0,\n",
       "  'Deaths': 17},\n",
       " 'Katrina': {'Name': 'Katrina',\n",
       "  'Month': 'August',\n",
       "  'Year': 2005,\n",
       "  'Max Sustained Wind in MPH': 175,\n",
       "  'Areas Affected': ['Bahamas', 'United States Gulf Coast'],\n",
       "  'Damage': 125000000000.0,\n",
       "  'Deaths': 1836},\n",
       " 'Rita': {'Name': 'Rita',\n",
       "  'Month': 'September',\n",
       "  'Year': 2005,\n",
       "  'Max Sustained Wind in MPH': 180,\n",
       "  'Areas Affected': ['Cuba', 'United States Gulf Coast'],\n",
       "  'Damage': 12000000000.0,\n",
       "  'Deaths': 125},\n",
       " 'Wilma': {'Name': 'Wilma',\n",
       "  'Month': 'October',\n",
       "  'Year': 2005,\n",
       "  'Max Sustained Wind in MPH': 185,\n",
       "  'Areas Affected': ['Greater Antilles', 'Central America', 'Florida'],\n",
       "  'Damage': 29400000000.0,\n",
       "  'Deaths': 87},\n",
       " 'Dean': {'Name': 'Dean',\n",
       "  'Month': 'August',\n",
       "  'Year': 2007,\n",
       "  'Max Sustained Wind in MPH': 175,\n",
       "  'Areas Affected': ['The Caribbean', 'Central America'],\n",
       "  'Damage': 1760000000.0,\n",
       "  'Deaths': 45},\n",
       " 'Felix': {'Name': 'Felix',\n",
       "  'Month': 'September',\n",
       "  'Year': 2007,\n",
       "  'Max Sustained Wind in MPH': 175,\n",
       "  'Areas Affected': ['Nicaragua', 'Honduras'],\n",
       "  'Damage': 720000000.0,\n",
       "  'Deaths': 133},\n",
       " 'Matthew': {'Name': 'Matthew',\n",
       "  'Month': 'October',\n",
       "  'Year': 2016,\n",
       "  'Max Sustained Wind in MPH': 165,\n",
       "  'Areas Affected': ['Antilles',\n",
       "   'Venezuela',\n",
       "   'Colombia',\n",
       "   'United States East Coast',\n",
       "   'Atlantic Canada'],\n",
       "  'Damage': 15100000000.0,\n",
       "  'Deaths': 603},\n",
       " 'Irma': {'Name': 'Irma',\n",
       "  'Month': 'September',\n",
       "  'Year': 2017,\n",
       "  'Max Sustained Wind in MPH': 180,\n",
       "  'Areas Affected': ['Cape Verde',\n",
       "   'The Caribbean',\n",
       "   'British Virgin Islands',\n",
       "   'U.S. Virgin Islands',\n",
       "   'Cuba',\n",
       "   'Florida'],\n",
       "  'Damage': 64800000000.0,\n",
       "  'Deaths': 138},\n",
       " 'Maria': {'Name': 'Maria',\n",
       "  'Month': 'September',\n",
       "  'Year': 2017,\n",
       "  'Max Sustained Wind in MPH': 175,\n",
       "  'Areas Affected': ['Lesser Antilles',\n",
       "   'Virgin Islands',\n",
       "   'Puerto Rico',\n",
       "   'Dominican Republic',\n",
       "   'Turks and Caicos Islands'],\n",
       "  'Damage': 91600000000.0,\n",
       "  'Deaths': 3057},\n",
       " 'Michael': {'Name': 'Michael',\n",
       "  'Month': 'October',\n",
       "  'Year': 2018,\n",
       "  'Max Sustained Wind in MPH': 160,\n",
       "  'Areas Affected': ['Central America',\n",
       "   'United States Gulf Coast (especially Florida Panhandle)'],\n",
       "  'Damage': 25100000000.0,\n",
       "  'Deaths': 74}}"
      ]
     },
     "execution_count": 2,
     "metadata": {},
     "output_type": "execute_result"
    }
   ],
   "source": [
    "# names of hurricanes\n",
    "names = ['Cuba I', 'San Felipe II Okeechobee', 'Bahamas', 'Cuba II', 'CubaBrownsville', 'Tampico', 'Labor Day', 'New England', 'Carol', 'Janet', 'Carla', 'Hattie', 'Beulah', 'Camille', 'Edith', 'Anita', 'David', 'Allen', 'Gilbert', 'Hugo', 'Andrew', 'Mitch', 'Isabel', 'Ivan', 'Emily', 'Katrina', 'Rita', 'Wilma', 'Dean', 'Felix', 'Matthew', 'Irma', 'Maria', 'Michael']\n",
    "\n",
    "# months of hurricanes\n",
    "months = ['October', 'September', 'September', 'November', 'August', 'September', 'September', 'September', 'September', 'September', 'September', 'October', 'September', 'August', 'September', 'September', 'August', 'August', 'September', 'September', 'August', 'October', 'September', 'September', 'July', 'August', 'September', 'October', 'August', 'September', 'October', 'September', 'September', 'October']\n",
    "\n",
    "# years of hurricanes\n",
    "years = [1924, 1928, 1932, 1932, 1933, 1933, 1935, 1938, 1953, 1955, 1961, 1961, 1967, 1969, 1971, 1977, 1979, 1980, 1988, 1989, 1992, 1998, 2003, 2004, 2005, 2005, 2005, 2005, 2007, 2007, 2016, 2017, 2017, 2018]\n",
    "\n",
    "# maximum sustained winds (mph) of hurricanes\n",
    "max_sustained_winds = [165, 160, 160, 175, 160, 160, 185, 160, 160, 175, 175, 160, 160, 175, 160, 175, 175, 190, 185, 160, 175, 180, 165, 165, 160, 175, 180, 185, 175, 175, 165, 180, 175, 160]\n",
    "\n",
    "# areas affected by each hurricane\n",
    "areas_affected = [['Central America', 'Mexico', 'Cuba', 'Florida', 'The Bahamas'], ['Lesser Antilles', 'The Bahamas', 'United States East Coast', 'Atlantic Canada'], ['The Bahamas', 'Northeastern United States'], ['Lesser Antilles', 'Jamaica', 'Cayman Islands', 'Cuba', 'The Bahamas', 'Bermuda'], ['The Bahamas', 'Cuba', 'Florida', 'Texas', 'Tamaulipas'], ['Jamaica', 'Yucatn Peninsula'], ['The Bahamas', 'Florida', 'Georgia', 'The Carolinas', 'Virginia'], ['Southeastern United States', 'Northeastern United States', 'Southwestern Quebec'], ['Bermuda', 'New England', 'Atlantic Canada'], ['Lesser Antilles', 'Central America'], ['Texas', 'Louisiana', 'Midwestern United States'], ['Central America'], ['The Caribbean', 'Mexico', 'Texas'], ['Cuba', 'United States Gulf Coast'], ['The Caribbean', 'Central America', 'Mexico', 'United States Gulf Coast'], ['Mexico'], ['The Caribbean', 'United States East coast'], ['The Caribbean', 'Yucatn Peninsula', 'Mexico', 'South Texas'], ['Jamaica', 'Venezuela', 'Central America', 'Hispaniola', 'Mexico'], ['The Caribbean', 'United States East Coast'], ['The Bahamas', 'Florida', 'United States Gulf Coast'], ['Central America', 'Yucatn Peninsula', 'South Florida'], ['Greater Antilles', 'Bahamas', 'Eastern United States', 'Ontario'], ['The Caribbean', 'Venezuela', 'United States Gulf Coast'], ['Windward Islands', 'Jamaica', 'Mexico', 'Texas'], ['Bahamas', 'United States Gulf Coast'], ['Cuba', 'United States Gulf Coast'], ['Greater Antilles', 'Central America', 'Florida'], ['The Caribbean', 'Central America'], ['Nicaragua', 'Honduras'], ['Antilles', 'Venezuela', 'Colombia', 'United States East Coast', 'Atlantic Canada'], ['Cape Verde', 'The Caribbean', 'British Virgin Islands', 'U.S. Virgin Islands', 'Cuba', 'Florida'], ['Lesser Antilles', 'Virgin Islands', 'Puerto Rico', 'Dominican Republic', 'Turks and Caicos Islands'], ['Central America', 'United States Gulf Coast (especially Florida Panhandle)']]\n",
    "\n",
    "# damages (USD($)) of hurricanes\n",
    "damages = ['Damages not recorded', '100M', 'Damages not recorded', '40M', '27.9M', '5M', 'Damages not recorded', '306M', '2M', '65.8M', '326M', '60.3M', '208M', '1.42B', '25.4M', 'Damages not recorded', '1.54B', '1.24B', '7.1B', '10B', '26.5B', '6.2B', '5.37B', '23.3B', '1.01B', '125B', '12B', '29.4B', '1.76B', '720M', '15.1B', '64.8B', '91.6B', '25.1B']\n",
    "\n",
    "# deaths for each hurricane\n",
    "deaths = [90,4000,16,3103,179,184,408,682,5,1023,43,319,688,259,37,11,2068,269,318,107,65,19325,51,124,17,1836,125,87,45,133,603,138,3057,74]\n",
    "\n",
    "# 2\n",
    "# Create a Table\n",
    "\n",
    "hurricanes_by_name = {}\n",
    "def create_hurricane_dict(key, empty_dict):\n",
    "    for i in range(len(key)):\n",
    "        hurricane_data = {\"Name\": names[i], \"Month\": months[i], \"Year\": years[i], \"Max Sustained Wind in MPH\": max_sustained_winds[i], \"Areas Affected\": areas_affected[i], \"Damage\": updated_damages[i], \"Deaths\": deaths[i]}\n",
    "        if key[i] in empty_dict:\n",
    "            # we are checking to see if we have already created a list for that key, for example if we have 4 hurricanes in 2020, then they would just be in one list, without this check it would add additional list brackets to every single hurricane past the 2nd hurricane\n",
    "            if isinstance(empty_dict[key[i]], list):\n",
    "                empty_dict[key[i]].append(hurricane_data)\n",
    "            else:\n",
    "                empty_dict[key[i]] = [empty_dict[key[i]], hurricane_data]\n",
    "        else:    \n",
    "            empty_dict[key[i]] = hurricane_data\n",
    "    return empty_dict\n",
    "\n",
    "# Create and view the hurricanes dictionary\n",
    "create_hurricane_dict(names, hurricanes_by_name)\n",
    "hurricanes_by_name"
   ]
  },
  {
   "cell_type": "markdown",
   "id": "6d0a1933",
   "metadata": {},
   "source": [
    "3. In addition to organizing the hurricanes in a dictionary with names as the key, you want to be able to organize the hurricanes by year.\n",
    "\n",
    "   Write a function that converts the current dictionary of hurricanes to a new dictionary, where the keys are years and the values are lists containing a dictionary for each hurricane that occurred in that year.\n",
    "   \n",
    "   For example, the key `1932` would yield the value: `[{'Name': 'Bahamas', 'Month': 'September', 'Year': 1932, 'Max Sustained Wind': 160, 'Areas Affected': ['The Bahamas', 'Northeastern United States'], 'Damage': 'Damage not recorded', 'Deaths': 16}, {'Name': 'Cuba II', 'Month': 'November', 'Year': 1932, 'Max Sustained Wind': 175, 'Areas Affected': ['Lesser Antilles', 'Jamaica', 'Cayman Islands', 'Cuba', 'The Bahamas', 'Bermuda'], 'Damage': 40000000.0, 'Deaths': 3103}]`.\n",
    "   \n",
    "   Test your function on your hurricane dictionary."
   ]
  },
  {
   "cell_type": "code",
   "execution_count": 3,
   "id": "1ef2edea",
   "metadata": {},
   "outputs": [
    {
     "data": {
      "text/plain": [
       "[{'Name': 'Bahamas',\n",
       "  'Month': 'September',\n",
       "  'Year': 1932,\n",
       "  'Max Sustained Wind in MPH': 160,\n",
       "  'Areas Affected': ['The Bahamas', 'Northeastern United States'],\n",
       "  'Damage': 'Damages not recorded',\n",
       "  'Deaths': 16},\n",
       " {'Name': 'Cuba II',\n",
       "  'Month': 'November',\n",
       "  'Year': 1932,\n",
       "  'Max Sustained Wind in MPH': 175,\n",
       "  'Areas Affected': ['Lesser Antilles',\n",
       "   'Jamaica',\n",
       "   'Cayman Islands',\n",
       "   'Cuba',\n",
       "   'The Bahamas',\n",
       "   'Bermuda'],\n",
       "  'Damage': 40000000.0,\n",
       "  'Deaths': 3103}]"
      ]
     },
     "execution_count": 3,
     "metadata": {},
     "output_type": "execute_result"
    }
   ],
   "source": [
    "# 3\n",
    "# Organizing by Year\n",
    "hurricanes_by_year = {}\n",
    "create_hurricane_dict(years,hurricanes_by_year)\n",
    "# create a new dictionary of hurricanes with year and key\n",
    "hurricanes_by_year.get(1932)"
   ]
  },
  {
   "cell_type": "markdown",
   "id": "66973f77",
   "metadata": {},
   "source": [
    "4. You believe that knowing how often each of the areas of the Atlantic are affected by these strong hurricanes is important for making preparations for future hurricanes.\n",
    "\n",
    "   Write a function that counts how often each area is listed as an affected area of a hurricane. Store and return the results in a dictionary where the keys are the affected areas and the values are counts of how many times the areas were affected.\n",
    "   \n",
    "   Test your function on your hurricane dictionary."
   ]
  },
  {
   "cell_type": "code",
   "execution_count": 4,
   "id": "bff86f77",
   "metadata": {},
   "outputs": [
    {
     "name": "stdout",
     "output_type": "stream",
     "text": [
      "6\n",
      "{'Central America': 9, 'Mexico': 7, 'Cuba': 6, 'Florida': 6, 'The Bahamas': 7, 'Lesser Antilles': 4, 'United States East Coast': 3, 'Atlantic Canada': 3, 'Northeastern United States': 2, 'Jamaica': 4, 'Cayman Islands': 1, 'Bermuda': 2, 'Texas': 4, 'Tamaulipas': 1, 'Yucatn Peninsula': 3, 'Georgia': 1, 'The Carolinas': 1, 'Virginia': 1, 'Southeastern United States': 1, 'Southwestern Quebec': 1, 'New England': 1, 'Louisiana': 1, 'Midwestern United States': 1, 'The Caribbean': 8, 'United States Gulf Coast': 6, 'United States East coast': 1, 'South Texas': 1, 'Venezuela': 3, 'Hispaniola': 1, 'South Florida': 1, 'Greater Antilles': 2, 'Bahamas': 2, 'Eastern United States': 1, 'Ontario': 1, 'Windward Islands': 1, 'Nicaragua': 1, 'Honduras': 1, 'Antilles': 1, 'Colombia': 1, 'Cape Verde': 1, 'British Virgin Islands': 1, 'U.S. Virgin Islands': 1, 'Virgin Islands': 1, 'Puerto Rico': 1, 'Dominican Republic': 1, 'Turks and Caicos Islands': 1, 'United States Gulf Coast (especially Florida Panhandle)': 1}\n"
     ]
    }
   ],
   "source": [
    "# 4\n",
    "# Counting Damaged Areas\n",
    "hurricane_hits = {}\n",
    "def count_damage_occurances(place):\n",
    "    for hurricane in areas_affected:\n",
    "        for location_affected in hurricane:\n",
    "            if location_affected in hurricane_hits:\n",
    "                hurricane_hits[location_affected] += 1\n",
    "            else:\n",
    "                 hurricane_hits[location_affected] = 1\n",
    "    return hurricane_hits.get(place)\n",
    "# create dictionary of areas to store the number of hurricanes involved in\n",
    "\n",
    "print(count_damage_occurances('Cuba'))\n",
    "print(hurricane_hits)"
   ]
  },
  {
   "cell_type": "markdown",
   "id": "e015eeb3",
   "metadata": {},
   "source": [
    "5. Write a function that finds the area affected by the most hurricanes, and how often it was hit.\n",
    "\n",
    "   Test your function on your affected area dictionary."
   ]
  },
  {
   "cell_type": "code",
   "execution_count": 5,
   "id": "643c73f9",
   "metadata": {},
   "outputs": [
    {
     "name": "stdout",
     "output_type": "stream",
     "text": [
      "The most frequently affected area is Central America with 9 hurricanes.\n"
     ]
    }
   ],
   "source": [
    "# 5\n",
    "# Calculating Maximum Hurricane Count\n",
    "def most_affected_area():\n",
    "    return max(hurricane_hits, key=hurricane_hits.get)\n",
    "\n",
    "# find most frequently affected area and the number of hurricanes involved in\n",
    "most_affected = most_affected_area()\n",
    "num_hurricanes = hurricane_hits[most_affected]\n",
    "\n",
    "print(\"The most frequently affected area is {most_affected} with {num_hurricanes} hurricanes.\".format(most_affected=most_affected, num_hurricanes=num_hurricanes))"
   ]
  },
  {
   "cell_type": "markdown",
   "id": "4c120f59",
   "metadata": {},
   "source": [
    "6. Write a function that finds the hurricane that caused the greatest number of deaths, and how many deaths it caused.\n",
    "\n",
    "   Test your function on your hurricane dictionary."
   ]
  },
  {
   "cell_type": "code",
   "execution_count": 6,
   "id": "ced02448",
   "metadata": {},
   "outputs": [
    {
     "data": {
      "text/plain": [
       "'The hurricane which caused the greatest number of deaths was hurricane Mitch. Which killed 19325 people in the year 1998.'"
      ]
     },
     "execution_count": 6,
     "metadata": {},
     "output_type": "execute_result"
    }
   ],
   "source": [
    "# 6\n",
    "# Calculating the Deadliest Hurricane\n",
    "def most_deaths():\n",
    "    most_deaths_index =  deaths.index(max(deaths))\n",
    "    hurricane_name = names[most_deaths_index]\n",
    "    num_deaths = hurricanes_by_name[hurricane_name][\"Deaths\"]\n",
    "    hurricane_year = hurricanes_by_name[hurricane_name][\"Year\"]\n",
    "    message = \"The hurricane which caused the greatest number of deaths was hurricane {name}. Which killed {deaths} people in the year {year}.\".format(name= hurricane_name, deaths = num_deaths, year = hurricane_year)\n",
    "    return message\n",
    "# find highest mortality hurricane and the number of deaths\n",
    "most_deaths()"
   ]
  },
  {
   "cell_type": "markdown",
   "id": "9ddd39b0",
   "metadata": {},
   "source": [
    "7. Just as hurricanes are rated by their windspeed, you want to try rating hurricanes based on other metrics.\n",
    "\n",
    "   Write a function that rates hurricanes on a mortality scale according to the following ratings, where the key is the rating and the value is the upper bound of deaths for that rating.\n",
    "   \n",
    "   ```py\n",
    "   mortality_scale = {0: 0,\n",
    "   1: 100,\n",
    "   2: 500,\n",
    "   3: 1000,\n",
    "   4: 10000}\n",
    "   ```\n",
    "   \n",
    "   For example, a hurricane with a `1` mortality rating would have resulted in greater than `0` but less than or equal to `100` deaths. A hurricane with a `5` mortality would have resulted in greater than `10000` deaths.\n",
    "   \n",
    "   Store the hurricanes in a new dictionary where the keys are the mortaility ratings and the values are lists containing a dictionary for each hurricane that falls into that mortality rating.\n",
    "   \n",
    "   Test your function on your hurricane dictionary."
   ]
  },
  {
   "cell_type": "code",
   "execution_count": 7,
   "id": "9eea4dc7",
   "metadata": {},
   "outputs": [
    {
     "data": {
      "text/plain": [
       "{0: [],\n",
       " 1: [{'Cuba I': 90},\n",
       "  {'Bahamas': 16},\n",
       "  {'Carol': 5},\n",
       "  {'Carla': 43},\n",
       "  {'Edith': 37},\n",
       "  {'Anita': 11},\n",
       "  {'Andrew': 65},\n",
       "  {'Isabel': 51},\n",
       "  {'Emily': 17},\n",
       "  {'Wilma': 87},\n",
       "  {'Dean': 45},\n",
       "  {'Michael': 74}],\n",
       " 2: [{'CubaBrownsville': 179},\n",
       "  {'Tampico': 184},\n",
       "  {'Labor Day': 408},\n",
       "  {'Hattie': 319},\n",
       "  {'Camille': 259},\n",
       "  {'Allen': 269},\n",
       "  {'Gilbert': 318},\n",
       "  {'Hugo': 107},\n",
       "  {'Ivan': 124},\n",
       "  {'Rita': 125},\n",
       "  {'Felix': 133},\n",
       "  {'Irma': 138}],\n",
       " 3: [{'New England': 682}, {'Beulah': 688}, {'Matthew': 603}],\n",
       " 4: [{'San Felipe II Okeechobee': 4000},\n",
       "  {'Cuba II': 3103},\n",
       "  {'Janet': 1023},\n",
       "  {'David': 2068},\n",
       "  {'Katrina': 1836},\n",
       "  {'Maria': 3057}],\n",
       " 5: [{'Mitch': 19325}]}"
      ]
     },
     "execution_count": 7,
     "metadata": {},
     "output_type": "execute_result"
    }
   ],
   "source": [
    "# 7\n",
    "# Rating Hurricanes by Mortality\n",
    "def hurricane_mortality():\n",
    "    hurricane_mortality = {0: [], 1: [], 2: [], 3: [], 4: [], 5: []}  # initialize with all keys\n",
    "    for i in range(len(deaths)):\n",
    "        if deaths[i] == 0:\n",
    "            hurricane_mortality[0].append({names[i]: deaths[i]})\n",
    "        elif deaths[i] <= 100:\n",
    "            hurricane_mortality[1].append({names[i]: deaths[i]})\n",
    "        elif deaths[i] <= 500:\n",
    "            hurricane_mortality[2].append({names[i]: deaths[i]})\n",
    "        elif deaths[i] <= 1000:\n",
    "            hurricane_mortality[3].append({names[i]: deaths[i]})\n",
    "        elif deaths[i] <= 10000:\n",
    "            hurricane_mortality[4].append({names[i]: deaths[i]})\n",
    "        else:\n",
    "            hurricane_mortality[5].append({names[i]: deaths[i]})\n",
    "    return hurricane_mortality\n",
    "\n",
    "# categorize hurricanes in new dictionary with mortality severity as key\n",
    "hurricane_mortality()"
   ]
  },
  {
   "cell_type": "markdown",
   "id": "199b0e1c",
   "metadata": {},
   "source": [
    "8. Write a function that finds the hurricane that caused the greatest damage, and how costly it was.\n",
    "\n",
    "   Test your function on your hurricane dictionary."
   ]
  },
  {
   "cell_type": "code",
   "execution_count": 8,
   "id": "b3dc79b4",
   "metadata": {},
   "outputs": [
    {
     "data": {
      "text/plain": [
       "'The hurricane which caused the greatest monetary damage was hurricane Katrina. Which caused $125B USD in the year 2005.'"
      ]
     },
     "execution_count": 8,
     "metadata": {},
     "output_type": "execute_result"
    }
   ],
   "source": [
    "# 8\n",
    "# Calculating Hurricane Maximum Damage\n",
    "def most_damage():\n",
    "    most_damage_documented = {}\n",
    "    for i in range(len(updated_damages)):\n",
    "        if isinstance(updated_damages[i], str): continue\n",
    "        else:\n",
    "            most_damage_documented[i] = updated_damages[i]\n",
    "    \n",
    "    most_damage_index = max(most_damage_documented, key=most_damage_documented.get)\n",
    "    hurricane_name = names[most_damage_index]\n",
    "    # I choose to go back through this list because its formating is more readable\n",
    "    damage_in_usd = damages[most_damage_index]\n",
    "    hurricane_year = hurricanes_by_name[hurricane_name][\"Year\"]\n",
    "    message = \"The hurricane which caused the greatest monetary damage was hurricane {name}. Which caused ${damage} USD in the year {year}.\".format(name= hurricane_name, damage = damage_in_usd, year = hurricane_year)\n",
    "    return message\n",
    "# find highest damage inducing hurricane and its total cost\n",
    "most_damage()"
   ]
  },
  {
   "cell_type": "markdown",
   "id": "58d22ddc",
   "metadata": {},
   "source": [
    "9. Lastly, you want to rate hurricanes according to how much damage they cause.\n",
    "\n",
    "   Write a function that rates hurricanes on a damage scale according to the following ratings, where the key is the rating and the value is the upper bound of damage for that rating.\n",
    "   ```py\n",
    "   damage_scale = {0: 0,\n",
    "   1: 100000000,\n",
    "   2: 1000000000,\n",
    "   3: 10000000000,\n",
    "   4: 50000000000}\n",
    "   ```\n",
    "   \n",
    "   For example, a hurricane with a `1` damage rating would have resulted in damages greater than `0` USD but less than or equal to `100000000` USD. A hurricane with a `5` damage rating would have resulted in damages greater than `50000000000` USD (talk about a lot of money).\n",
    "   \n",
    "   Store the hurricanes in a new dictionary where the keys are damage ratings and the values are lists containing a dictionary for each hurricane that falls into that damage rating.\n",
    "   \n",
    "   Test your function on your hurricane dictionary."
   ]
  },
  {
   "cell_type": "code",
   "execution_count": 9,
   "id": "e543f487",
   "metadata": {},
   "outputs": [
    {
     "data": {
      "text/plain": [
       "{0: [{'Cuba I': 'Damages not recorded'},\n",
       "  {'Bahamas': 'Damages not recorded'},\n",
       "  {'Labor Day': 'Damages not recorded'},\n",
       "  {'Anita': 'Damages not recorded'}],\n",
       " 1: [{'San Felipe II Okeechobee': '100M'},\n",
       "  {'Cuba II': '40M'},\n",
       "  {'CubaBrownsville': '27.9M'},\n",
       "  {'Tampico': '5M'},\n",
       "  {'Carol': '2M'},\n",
       "  {'Janet': '65.8M'},\n",
       "  {'Hattie': '60.3M'},\n",
       "  {'Edith': '25.4M'}],\n",
       " 2: [{'New England': '306M'},\n",
       "  {'Carla': '326M'},\n",
       "  {'Beulah': '208M'},\n",
       "  {'Felix': '720M'}],\n",
       " 3: [{'Camille': '1.42B'},\n",
       "  {'David': '1.54B'},\n",
       "  {'Allen': '1.24B'},\n",
       "  {'Gilbert': '7.1B'},\n",
       "  {'Hugo': '10B'},\n",
       "  {'Mitch': '6.2B'},\n",
       "  {'Isabel': '5.37B'},\n",
       "  {'Emily': '1.01B'},\n",
       "  {'Dean': '1.76B'}],\n",
       " 4: [{'Andrew': '26.5B'},\n",
       "  {'Ivan': '23.3B'},\n",
       "  {'Rita': '12B'},\n",
       "  {'Wilma': '29.4B'},\n",
       "  {'Matthew': '15.1B'},\n",
       "  {'Michael': '25.1B'}],\n",
       " 5: [{'Katrina': '125B'}, {'Irma': '64.8B'}, {'Maria': '91.6B'}]}"
      ]
     },
     "execution_count": 9,
     "metadata": {},
     "output_type": "execute_result"
    }
   ],
   "source": [
    "# 9\n",
    "# Rating Hurricanes by Damage\n",
    "damage_scale = {0: 0,\n",
    "                1: 100000000,\n",
    "                2: 1000000000,\n",
    "                3: 10000000000,\n",
    "                4: 50000000000}\n",
    "def damage_scale_dict():\n",
    "    hurricane_damage_scale = {0: [], 1: [], 2: [], 3: [], 4: [], 5: []}  # initialize with all keys\n",
    "    for i in range(len(updated_damages)):\n",
    "        if updated_damages[i] == hurricane_damage_scale.get(0) or isinstance(updated_damages[i], str):\n",
    "            hurricane_damage_scale[0].append({names[i]: damages[i]})\n",
    "        elif updated_damages[i] <= damage_scale.get(1):\n",
    "            hurricane_damage_scale[1].append({names[i]: damages[i]})\n",
    "        elif updated_damages[i] <= damage_scale.get(2):\n",
    "            hurricane_damage_scale[2].append({names[i]: damages[i]})\n",
    "        elif updated_damages[i] <= damage_scale.get(3):\n",
    "            hurricane_damage_scale[3].append({names[i]: damages[i]})\n",
    "        elif updated_damages[i] <= damage_scale.get(4):\n",
    "            hurricane_damage_scale[4].append({names[i]: damages[i]})\n",
    "        else:\n",
    "            hurricane_damage_scale[5].append({names[i]: damages[i]})\n",
    "    return hurricane_damage_scale\n",
    "\n",
    "# categorize hurricanes in new dictionary with damage severity as key\n",
    "damage_scale_dict()"
   ]
  },
  {
   "cell_type": "markdown",
   "id": "928c5fd2",
   "metadata": {},
   "source": [
    "## Solution"
   ]
  },
  {
   "cell_type": "markdown",
   "id": "252616a3",
   "metadata": {},
   "source": [
    "Great work! View the **Hurricane Analysis_Solution.ipynb** file or visit [our forums](https://discuss.codecademy.com/t/hurricane-analysis-challenge-project-python/462363) to compare your project to our sample solution code. You can also learn how to host your own solution on GitHub so you can share it with other learners! Your solution might look different than ours, and that's okay! There are multiple ways to solve these projects, and you'll learn more by seeing others' code."
   ]
  },
  {
   "cell_type": "code",
   "execution_count": null,
   "id": "da8f7141",
   "metadata": {},
   "outputs": [],
   "source": []
  }
 ],
 "metadata": {
  "kernelspec": {
   "display_name": "Python 3 (ipykernel)",
   "language": "python",
   "name": "python3"
  },
  "language_info": {
   "codemirror_mode": {
    "name": "ipython",
    "version": 3
   },
   "file_extension": ".py",
   "mimetype": "text/x-python",
   "name": "python",
   "nbconvert_exporter": "python",
   "pygments_lexer": "ipython3",
   "version": "3.10.9"
  },
  "vscode": {
   "interpreter": {
    "hash": "b784193cf0f9970b27f3c12f21dbff8ed97e3cf923dc23fe210654173bc3fdd0"
   }
  }
 },
 "nbformat": 4,
 "nbformat_minor": 5
}
